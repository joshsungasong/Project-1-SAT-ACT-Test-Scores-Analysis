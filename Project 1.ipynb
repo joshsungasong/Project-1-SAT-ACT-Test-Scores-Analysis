{
 "cells": [
  {
   "cell_type": "markdown",
   "metadata": {},
   "source": [
    "# Project 1"
   ]
  },
  {
   "cell_type": "markdown",
   "metadata": {},
   "source": [
    "## Step 1: Load the data and perform basic operations."
   ]
  },
  {
   "cell_type": "markdown",
   "metadata": {},
   "source": [
    "##### 1. Load the data in using pandas."
   ]
  },
  {
   "cell_type": "code",
   "execution_count": 1,
   "metadata": {
    "collapsed": true
   },
   "outputs": [],
   "source": [
    "import matplotlib.pyplot as plt\n",
    "import numpy as np\n",
    "import pandas as pd\n",
    "import seaborn as sns\n",
    "import scipy.stats as stats\n",
    "\n",
    "%matplotlib inline\n",
    "%config InlineBackend.figure_format = 'retina'"
   ]
  },
  {
   "cell_type": "code",
   "execution_count": 2,
   "metadata": {},
   "outputs": [
    {
     "data": {
      "text/html": [
       "<div>\n",
       "<style>\n",
       "    .dataframe thead tr:only-child th {\n",
       "        text-align: right;\n",
       "    }\n",
       "\n",
       "    .dataframe thead th {\n",
       "        text-align: left;\n",
       "    }\n",
       "\n",
       "    .dataframe tbody tr th {\n",
       "        vertical-align: top;\n",
       "    }\n",
       "</style>\n",
       "<table border=\"1\" class=\"dataframe\">\n",
       "  <thead>\n",
       "    <tr style=\"text-align: right;\">\n",
       "      <th></th>\n",
       "      <th>State</th>\n",
       "      <th>Participation</th>\n",
       "      <th>Evidence-Based Reading and Writing</th>\n",
       "      <th>Math</th>\n",
       "      <th>Total</th>\n",
       "    </tr>\n",
       "  </thead>\n",
       "  <tbody>\n",
       "    <tr>\n",
       "      <th>0</th>\n",
       "      <td>Alabama</td>\n",
       "      <td>5%</td>\n",
       "      <td>593</td>\n",
       "      <td>572</td>\n",
       "      <td>1165</td>\n",
       "    </tr>\n",
       "    <tr>\n",
       "      <th>1</th>\n",
       "      <td>Alaska</td>\n",
       "      <td>38%</td>\n",
       "      <td>547</td>\n",
       "      <td>533</td>\n",
       "      <td>1080</td>\n",
       "    </tr>\n",
       "    <tr>\n",
       "      <th>2</th>\n",
       "      <td>Arizona</td>\n",
       "      <td>30%</td>\n",
       "      <td>563</td>\n",
       "      <td>553</td>\n",
       "      <td>1116</td>\n",
       "    </tr>\n",
       "    <tr>\n",
       "      <th>3</th>\n",
       "      <td>Arkansas</td>\n",
       "      <td>3%</td>\n",
       "      <td>614</td>\n",
       "      <td>594</td>\n",
       "      <td>1208</td>\n",
       "    </tr>\n",
       "    <tr>\n",
       "      <th>4</th>\n",
       "      <td>California</td>\n",
       "      <td>53%</td>\n",
       "      <td>531</td>\n",
       "      <td>524</td>\n",
       "      <td>1055</td>\n",
       "    </tr>\n",
       "  </tbody>\n",
       "</table>\n",
       "</div>"
      ],
      "text/plain": [
       "        State Participation  Evidence-Based Reading and Writing  Math  Total\n",
       "0     Alabama            5%                                 593   572   1165\n",
       "1      Alaska           38%                                 547   533   1080\n",
       "2     Arizona           30%                                 563   553   1116\n",
       "3    Arkansas            3%                                 614   594   1208\n",
       "4  California           53%                                 531   524   1055"
      ]
     },
     "execution_count": 2,
     "metadata": {},
     "output_type": "execute_result"
    }
   ],
   "source": [
    "sat = pd.read_csv('~/Documents/DSI/Week1/Projects/DC-project-1/data/sat.csv', index_col ='Unnamed: 0')\n",
    "sat.head(5)"
   ]
  },
  {
   "cell_type": "code",
   "execution_count": 3,
   "metadata": {},
   "outputs": [
    {
     "data": {
      "text/html": [
       "<div>\n",
       "<style>\n",
       "    .dataframe thead tr:only-child th {\n",
       "        text-align: right;\n",
       "    }\n",
       "\n",
       "    .dataframe thead th {\n",
       "        text-align: left;\n",
       "    }\n",
       "\n",
       "    .dataframe tbody tr th {\n",
       "        vertical-align: top;\n",
       "    }\n",
       "</style>\n",
       "<table border=\"1\" class=\"dataframe\">\n",
       "  <thead>\n",
       "    <tr style=\"text-align: right;\">\n",
       "      <th></th>\n",
       "      <th>State</th>\n",
       "      <th>Participation</th>\n",
       "      <th>English</th>\n",
       "      <th>Math</th>\n",
       "      <th>Reading</th>\n",
       "      <th>Science</th>\n",
       "      <th>Composite</th>\n",
       "    </tr>\n",
       "  </thead>\n",
       "  <tbody>\n",
       "    <tr>\n",
       "      <th>0</th>\n",
       "      <td>National</td>\n",
       "      <td>60%</td>\n",
       "      <td>20.3</td>\n",
       "      <td>20.7</td>\n",
       "      <td>21.4</td>\n",
       "      <td>21.0</td>\n",
       "      <td>21.0</td>\n",
       "    </tr>\n",
       "    <tr>\n",
       "      <th>1</th>\n",
       "      <td>Alabama</td>\n",
       "      <td>100%</td>\n",
       "      <td>18.9</td>\n",
       "      <td>18.4</td>\n",
       "      <td>19.7</td>\n",
       "      <td>19.4</td>\n",
       "      <td>19.2</td>\n",
       "    </tr>\n",
       "    <tr>\n",
       "      <th>2</th>\n",
       "      <td>Alaska</td>\n",
       "      <td>65%</td>\n",
       "      <td>18.7</td>\n",
       "      <td>19.8</td>\n",
       "      <td>20.4</td>\n",
       "      <td>19.9</td>\n",
       "      <td>19.8</td>\n",
       "    </tr>\n",
       "    <tr>\n",
       "      <th>3</th>\n",
       "      <td>Arizona</td>\n",
       "      <td>62%</td>\n",
       "      <td>18.6</td>\n",
       "      <td>19.8</td>\n",
       "      <td>20.1</td>\n",
       "      <td>19.8</td>\n",
       "      <td>19.7</td>\n",
       "    </tr>\n",
       "    <tr>\n",
       "      <th>4</th>\n",
       "      <td>Arkansas</td>\n",
       "      <td>100%</td>\n",
       "      <td>18.9</td>\n",
       "      <td>19.0</td>\n",
       "      <td>19.7</td>\n",
       "      <td>19.5</td>\n",
       "      <td>19.4</td>\n",
       "    </tr>\n",
       "  </tbody>\n",
       "</table>\n",
       "</div>"
      ],
      "text/plain": [
       "      State Participation  English  Math  Reading  Science  Composite\n",
       "0  National           60%     20.3  20.7     21.4     21.0       21.0\n",
       "1   Alabama          100%     18.9  18.4     19.7     19.4       19.2\n",
       "2    Alaska           65%     18.7  19.8     20.4     19.9       19.8\n",
       "3   Arizona           62%     18.6  19.8     20.1     19.8       19.7\n",
       "4  Arkansas          100%     18.9  19.0     19.7     19.5       19.4"
      ]
     },
     "execution_count": 3,
     "metadata": {},
     "output_type": "execute_result"
    }
   ],
   "source": [
    "act = pd.read_csv('~/Documents/DSI/Week1/Projects/DC-project-1/data/act.csv', index_col = 'Unnamed: 0')\n",
    "act.head(5)"
   ]
  },
  {
   "cell_type": "markdown",
   "metadata": {},
   "source": [
    "##### 2. Print the first ten rows of each dataframe."
   ]
  },
  {
   "cell_type": "code",
   "execution_count": 5,
   "metadata": {},
   "outputs": [
    {
     "data": {
      "text/html": [
       "<div>\n",
       "<style>\n",
       "    .dataframe thead tr:only-child th {\n",
       "        text-align: right;\n",
       "    }\n",
       "\n",
       "    .dataframe thead th {\n",
       "        text-align: left;\n",
       "    }\n",
       "\n",
       "    .dataframe tbody tr th {\n",
       "        vertical-align: top;\n",
       "    }\n",
       "</style>\n",
       "<table border=\"1\" class=\"dataframe\">\n",
       "  <thead>\n",
       "    <tr style=\"text-align: right;\">\n",
       "      <th></th>\n",
       "      <th>State</th>\n",
       "      <th>Participation</th>\n",
       "      <th>Evidence-Based Reading and Writing</th>\n",
       "      <th>Math</th>\n",
       "      <th>Total</th>\n",
       "    </tr>\n",
       "  </thead>\n",
       "  <tbody>\n",
       "    <tr>\n",
       "      <th>0</th>\n",
       "      <td>Alabama</td>\n",
       "      <td>5%</td>\n",
       "      <td>593</td>\n",
       "      <td>572</td>\n",
       "      <td>1165</td>\n",
       "    </tr>\n",
       "    <tr>\n",
       "      <th>1</th>\n",
       "      <td>Alaska</td>\n",
       "      <td>38%</td>\n",
       "      <td>547</td>\n",
       "      <td>533</td>\n",
       "      <td>1080</td>\n",
       "    </tr>\n",
       "    <tr>\n",
       "      <th>2</th>\n",
       "      <td>Arizona</td>\n",
       "      <td>30%</td>\n",
       "      <td>563</td>\n",
       "      <td>553</td>\n",
       "      <td>1116</td>\n",
       "    </tr>\n",
       "    <tr>\n",
       "      <th>3</th>\n",
       "      <td>Arkansas</td>\n",
       "      <td>3%</td>\n",
       "      <td>614</td>\n",
       "      <td>594</td>\n",
       "      <td>1208</td>\n",
       "    </tr>\n",
       "    <tr>\n",
       "      <th>4</th>\n",
       "      <td>California</td>\n",
       "      <td>53%</td>\n",
       "      <td>531</td>\n",
       "      <td>524</td>\n",
       "      <td>1055</td>\n",
       "    </tr>\n",
       "    <tr>\n",
       "      <th>5</th>\n",
       "      <td>Colorado</td>\n",
       "      <td>11%</td>\n",
       "      <td>606</td>\n",
       "      <td>595</td>\n",
       "      <td>1201</td>\n",
       "    </tr>\n",
       "    <tr>\n",
       "      <th>6</th>\n",
       "      <td>Connecticut</td>\n",
       "      <td>100%</td>\n",
       "      <td>530</td>\n",
       "      <td>512</td>\n",
       "      <td>1041</td>\n",
       "    </tr>\n",
       "    <tr>\n",
       "      <th>7</th>\n",
       "      <td>Delaware</td>\n",
       "      <td>100%</td>\n",
       "      <td>503</td>\n",
       "      <td>492</td>\n",
       "      <td>996</td>\n",
       "    </tr>\n",
       "    <tr>\n",
       "      <th>8</th>\n",
       "      <td>District of Columbia</td>\n",
       "      <td>100%</td>\n",
       "      <td>482</td>\n",
       "      <td>468</td>\n",
       "      <td>950</td>\n",
       "    </tr>\n",
       "    <tr>\n",
       "      <th>9</th>\n",
       "      <td>Florida</td>\n",
       "      <td>83%</td>\n",
       "      <td>520</td>\n",
       "      <td>497</td>\n",
       "      <td>1017</td>\n",
       "    </tr>\n",
       "  </tbody>\n",
       "</table>\n",
       "</div>"
      ],
      "text/plain": [
       "                  State Participation  Evidence-Based Reading and Writing  \\\n",
       "0               Alabama            5%                                 593   \n",
       "1                Alaska           38%                                 547   \n",
       "2               Arizona           30%                                 563   \n",
       "3              Arkansas            3%                                 614   \n",
       "4            California           53%                                 531   \n",
       "5              Colorado           11%                                 606   \n",
       "6           Connecticut          100%                                 530   \n",
       "7              Delaware          100%                                 503   \n",
       "8  District of Columbia          100%                                 482   \n",
       "9               Florida           83%                                 520   \n",
       "\n",
       "   Math  Total  \n",
       "0   572   1165  \n",
       "1   533   1080  \n",
       "2   553   1116  \n",
       "3   594   1208  \n",
       "4   524   1055  \n",
       "5   595   1201  \n",
       "6   512   1041  \n",
       "7   492    996  \n",
       "8   468    950  \n",
       "9   497   1017  "
      ]
     },
     "execution_count": 5,
     "metadata": {},
     "output_type": "execute_result"
    }
   ],
   "source": [
    "sat.head(10)"
   ]
  },
  {
   "cell_type": "code",
   "execution_count": 6,
   "metadata": {},
   "outputs": [
    {
     "data": {
      "text/html": [
       "<div>\n",
       "<style>\n",
       "    .dataframe thead tr:only-child th {\n",
       "        text-align: right;\n",
       "    }\n",
       "\n",
       "    .dataframe thead th {\n",
       "        text-align: left;\n",
       "    }\n",
       "\n",
       "    .dataframe tbody tr th {\n",
       "        vertical-align: top;\n",
       "    }\n",
       "</style>\n",
       "<table border=\"1\" class=\"dataframe\">\n",
       "  <thead>\n",
       "    <tr style=\"text-align: right;\">\n",
       "      <th></th>\n",
       "      <th>State</th>\n",
       "      <th>Participation</th>\n",
       "      <th>English</th>\n",
       "      <th>Math</th>\n",
       "      <th>Reading</th>\n",
       "      <th>Science</th>\n",
       "      <th>Composite</th>\n",
       "    </tr>\n",
       "  </thead>\n",
       "  <tbody>\n",
       "    <tr>\n",
       "      <th>0</th>\n",
       "      <td>National</td>\n",
       "      <td>60%</td>\n",
       "      <td>20.3</td>\n",
       "      <td>20.7</td>\n",
       "      <td>21.4</td>\n",
       "      <td>21.0</td>\n",
       "      <td>21.0</td>\n",
       "    </tr>\n",
       "    <tr>\n",
       "      <th>1</th>\n",
       "      <td>Alabama</td>\n",
       "      <td>100%</td>\n",
       "      <td>18.9</td>\n",
       "      <td>18.4</td>\n",
       "      <td>19.7</td>\n",
       "      <td>19.4</td>\n",
       "      <td>19.2</td>\n",
       "    </tr>\n",
       "    <tr>\n",
       "      <th>2</th>\n",
       "      <td>Alaska</td>\n",
       "      <td>65%</td>\n",
       "      <td>18.7</td>\n",
       "      <td>19.8</td>\n",
       "      <td>20.4</td>\n",
       "      <td>19.9</td>\n",
       "      <td>19.8</td>\n",
       "    </tr>\n",
       "    <tr>\n",
       "      <th>3</th>\n",
       "      <td>Arizona</td>\n",
       "      <td>62%</td>\n",
       "      <td>18.6</td>\n",
       "      <td>19.8</td>\n",
       "      <td>20.1</td>\n",
       "      <td>19.8</td>\n",
       "      <td>19.7</td>\n",
       "    </tr>\n",
       "    <tr>\n",
       "      <th>4</th>\n",
       "      <td>Arkansas</td>\n",
       "      <td>100%</td>\n",
       "      <td>18.9</td>\n",
       "      <td>19.0</td>\n",
       "      <td>19.7</td>\n",
       "      <td>19.5</td>\n",
       "      <td>19.4</td>\n",
       "    </tr>\n",
       "    <tr>\n",
       "      <th>5</th>\n",
       "      <td>California</td>\n",
       "      <td>31%</td>\n",
       "      <td>22.5</td>\n",
       "      <td>22.7</td>\n",
       "      <td>23.1</td>\n",
       "      <td>22.2</td>\n",
       "      <td>22.8</td>\n",
       "    </tr>\n",
       "    <tr>\n",
       "      <th>6</th>\n",
       "      <td>Colorado</td>\n",
       "      <td>100%</td>\n",
       "      <td>20.1</td>\n",
       "      <td>20.3</td>\n",
       "      <td>21.2</td>\n",
       "      <td>20.9</td>\n",
       "      <td>20.8</td>\n",
       "    </tr>\n",
       "    <tr>\n",
       "      <th>7</th>\n",
       "      <td>Connecticut</td>\n",
       "      <td>31%</td>\n",
       "      <td>25.5</td>\n",
       "      <td>24.6</td>\n",
       "      <td>25.6</td>\n",
       "      <td>24.6</td>\n",
       "      <td>25.2</td>\n",
       "    </tr>\n",
       "    <tr>\n",
       "      <th>8</th>\n",
       "      <td>Delaware</td>\n",
       "      <td>18%</td>\n",
       "      <td>24.1</td>\n",
       "      <td>23.4</td>\n",
       "      <td>24.8</td>\n",
       "      <td>23.6</td>\n",
       "      <td>24.1</td>\n",
       "    </tr>\n",
       "    <tr>\n",
       "      <th>9</th>\n",
       "      <td>District of Columbia</td>\n",
       "      <td>32%</td>\n",
       "      <td>24.4</td>\n",
       "      <td>23.5</td>\n",
       "      <td>24.9</td>\n",
       "      <td>23.5</td>\n",
       "      <td>24.2</td>\n",
       "    </tr>\n",
       "  </tbody>\n",
       "</table>\n",
       "</div>"
      ],
      "text/plain": [
       "                  State Participation  English  Math  Reading  Science  \\\n",
       "0              National           60%     20.3  20.7     21.4     21.0   \n",
       "1               Alabama          100%     18.9  18.4     19.7     19.4   \n",
       "2                Alaska           65%     18.7  19.8     20.4     19.9   \n",
       "3               Arizona           62%     18.6  19.8     20.1     19.8   \n",
       "4              Arkansas          100%     18.9  19.0     19.7     19.5   \n",
       "5            California           31%     22.5  22.7     23.1     22.2   \n",
       "6              Colorado          100%     20.1  20.3     21.2     20.9   \n",
       "7           Connecticut           31%     25.5  24.6     25.6     24.6   \n",
       "8              Delaware           18%     24.1  23.4     24.8     23.6   \n",
       "9  District of Columbia           32%     24.4  23.5     24.9     23.5   \n",
       "\n",
       "   Composite  \n",
       "0       21.0  \n",
       "1       19.2  \n",
       "2       19.8  \n",
       "3       19.7  \n",
       "4       19.4  \n",
       "5       22.8  \n",
       "6       20.8  \n",
       "7       25.2  \n",
       "8       24.1  \n",
       "9       24.2  "
      ]
     },
     "execution_count": 6,
     "metadata": {},
     "output_type": "execute_result"
    }
   ],
   "source": [
    "act.head(10)"
   ]
  },
  {
   "cell_type": "markdown",
   "metadata": {},
   "source": [
    "##### 3. Describe in words what each variable (column) is."
   ]
  },
  {
   "cell_type": "markdown",
   "metadata": {},
   "source": [
    "The participation column represents the participating rates of the class of 2017 for the SAT and ACT college entrance examinations.\n",
    "\n",
    "The English ACT column refers to the average scores of each state for the English portion of the ACT test. The math ACT column refers to the average scores of each state for the Math section of the ACT examination. The Science ACT column refers to the average score of each state for the Science section of the ACT examination. The composite ACT column refers to the average of the 4 sections of the ACT test. \n",
    "\n",
    "The Evidence-Based Reading and Writing section refers to the average score of each state for the verbal section of the SAT examination. The Math SAT column refers to the average score of each state for that particular section of the SAT examination. "
   ]
  },
  {
   "cell_type": "markdown",
   "metadata": {},
   "source": [
    "##### 4. Does the data look complete? Are there any obvious issues with the observations?"
   ]
  },
  {
   "cell_type": "markdown",
   "metadata": {},
   "source": [
    "Both of the data sets look quite broad. It seems to be taking a \"holistic\" view of the stats for both tests from each test. Test scores could vary among districts, cities, municipalities, etc. I'm going to assume that the scores are average scores. It is not too obvious that they are. It would be nice to see test scores from different districts or\n",
    "divide each state with \"equal\" populations?"
   ]
  },
  {
   "cell_type": "markdown",
   "metadata": {},
   "source": [
    "### 5. Print the types of each column."
   ]
  },
  {
   "cell_type": "code",
   "execution_count": 8,
   "metadata": {},
   "outputs": [
    {
     "data": {
      "text/plain": [
       "State             object\n",
       "Participation     object\n",
       "English          float64\n",
       "Math             float64\n",
       "Reading          float64\n",
       "Science          float64\n",
       "Composite        float64\n",
       "dtype: object"
      ]
     },
     "execution_count": 8,
     "metadata": {},
     "output_type": "execute_result"
    }
   ],
   "source": [
    "act.dtypes"
   ]
  },
  {
   "cell_type": "code",
   "execution_count": 9,
   "metadata": {},
   "outputs": [
    {
     "data": {
      "text/plain": [
       "State                                 object\n",
       "Participation                         object\n",
       "Evidence-Based Reading and Writing     int64\n",
       "Math                                   int64\n",
       "Total                                  int64\n",
       "dtype: object"
      ]
     },
     "execution_count": 9,
     "metadata": {},
     "output_type": "execute_result"
    }
   ],
   "source": [
    "sat.dtypes"
   ]
  },
  {
   "cell_type": "markdown",
   "metadata": {},
   "source": [
    "##### 6. Do any types need to be reassigned? If so, go ahead and do it."
   ]
  },
  {
   "cell_type": "markdown",
   "metadata": {},
   "source": [
    "I have reassigned the Participation columns to a float in case I would like to conduct mathematics operations with the percentages. "
   ]
  },
  {
   "cell_type": "code",
   "execution_count": 4,
   "metadata": {},
   "outputs": [
    {
     "data": {
      "text/html": [
       "<div>\n",
       "<style>\n",
       "    .dataframe thead tr:only-child th {\n",
       "        text-align: right;\n",
       "    }\n",
       "\n",
       "    .dataframe thead th {\n",
       "        text-align: left;\n",
       "    }\n",
       "\n",
       "    .dataframe tbody tr th {\n",
       "        vertical-align: top;\n",
       "    }\n",
       "</style>\n",
       "<table border=\"1\" class=\"dataframe\">\n",
       "  <thead>\n",
       "    <tr style=\"text-align: right;\">\n",
       "      <th></th>\n",
       "      <th>State</th>\n",
       "      <th>Participation</th>\n",
       "      <th>Evidence-Based Reading and Writing</th>\n",
       "      <th>Math</th>\n",
       "      <th>Total</th>\n",
       "    </tr>\n",
       "  </thead>\n",
       "  <tbody>\n",
       "    <tr>\n",
       "      <th>0</th>\n",
       "      <td>Alabama</td>\n",
       "      <td>0.05</td>\n",
       "      <td>593</td>\n",
       "      <td>572</td>\n",
       "      <td>1165</td>\n",
       "    </tr>\n",
       "    <tr>\n",
       "      <th>1</th>\n",
       "      <td>Alaska</td>\n",
       "      <td>0.38</td>\n",
       "      <td>547</td>\n",
       "      <td>533</td>\n",
       "      <td>1080</td>\n",
       "    </tr>\n",
       "    <tr>\n",
       "      <th>2</th>\n",
       "      <td>Arizona</td>\n",
       "      <td>0.30</td>\n",
       "      <td>563</td>\n",
       "      <td>553</td>\n",
       "      <td>1116</td>\n",
       "    </tr>\n",
       "    <tr>\n",
       "      <th>3</th>\n",
       "      <td>Arkansas</td>\n",
       "      <td>0.03</td>\n",
       "      <td>614</td>\n",
       "      <td>594</td>\n",
       "      <td>1208</td>\n",
       "    </tr>\n",
       "    <tr>\n",
       "      <th>4</th>\n",
       "      <td>California</td>\n",
       "      <td>0.53</td>\n",
       "      <td>531</td>\n",
       "      <td>524</td>\n",
       "      <td>1055</td>\n",
       "    </tr>\n",
       "  </tbody>\n",
       "</table>\n",
       "</div>"
      ],
      "text/plain": [
       "        State  Participation  Evidence-Based Reading and Writing  Math  Total\n",
       "0     Alabama           0.05                                 593   572   1165\n",
       "1      Alaska           0.38                                 547   533   1080\n",
       "2     Arizona           0.30                                 563   553   1116\n",
       "3    Arkansas           0.03                                 614   594   1208\n",
       "4  California           0.53                                 531   524   1055"
      ]
     },
     "execution_count": 4,
     "metadata": {},
     "output_type": "execute_result"
    }
   ],
   "source": [
    "sat['Participation'] = sat['Participation'].replace('%','',regex=True).astype('float')/100\n",
    "sat.head(5)"
   ]
  },
  {
   "cell_type": "code",
   "execution_count": 5,
   "metadata": {},
   "outputs": [
    {
     "data": {
      "text/html": [
       "<div>\n",
       "<style>\n",
       "    .dataframe thead tr:only-child th {\n",
       "        text-align: right;\n",
       "    }\n",
       "\n",
       "    .dataframe thead th {\n",
       "        text-align: left;\n",
       "    }\n",
       "\n",
       "    .dataframe tbody tr th {\n",
       "        vertical-align: top;\n",
       "    }\n",
       "</style>\n",
       "<table border=\"1\" class=\"dataframe\">\n",
       "  <thead>\n",
       "    <tr style=\"text-align: right;\">\n",
       "      <th></th>\n",
       "      <th>State</th>\n",
       "      <th>Participation</th>\n",
       "      <th>English</th>\n",
       "      <th>Math</th>\n",
       "      <th>Reading</th>\n",
       "      <th>Science</th>\n",
       "      <th>Composite</th>\n",
       "    </tr>\n",
       "  </thead>\n",
       "  <tbody>\n",
       "    <tr>\n",
       "      <th>0</th>\n",
       "      <td>National</td>\n",
       "      <td>0.60</td>\n",
       "      <td>20.3</td>\n",
       "      <td>20.7</td>\n",
       "      <td>21.4</td>\n",
       "      <td>21.0</td>\n",
       "      <td>21.0</td>\n",
       "    </tr>\n",
       "    <tr>\n",
       "      <th>1</th>\n",
       "      <td>Alabama</td>\n",
       "      <td>1.00</td>\n",
       "      <td>18.9</td>\n",
       "      <td>18.4</td>\n",
       "      <td>19.7</td>\n",
       "      <td>19.4</td>\n",
       "      <td>19.2</td>\n",
       "    </tr>\n",
       "    <tr>\n",
       "      <th>2</th>\n",
       "      <td>Alaska</td>\n",
       "      <td>0.65</td>\n",
       "      <td>18.7</td>\n",
       "      <td>19.8</td>\n",
       "      <td>20.4</td>\n",
       "      <td>19.9</td>\n",
       "      <td>19.8</td>\n",
       "    </tr>\n",
       "    <tr>\n",
       "      <th>3</th>\n",
       "      <td>Arizona</td>\n",
       "      <td>0.62</td>\n",
       "      <td>18.6</td>\n",
       "      <td>19.8</td>\n",
       "      <td>20.1</td>\n",
       "      <td>19.8</td>\n",
       "      <td>19.7</td>\n",
       "    </tr>\n",
       "    <tr>\n",
       "      <th>4</th>\n",
       "      <td>Arkansas</td>\n",
       "      <td>1.00</td>\n",
       "      <td>18.9</td>\n",
       "      <td>19.0</td>\n",
       "      <td>19.7</td>\n",
       "      <td>19.5</td>\n",
       "      <td>19.4</td>\n",
       "    </tr>\n",
       "  </tbody>\n",
       "</table>\n",
       "</div>"
      ],
      "text/plain": [
       "      State  Participation  English  Math  Reading  Science  Composite\n",
       "0  National           0.60     20.3  20.7     21.4     21.0       21.0\n",
       "1   Alabama           1.00     18.9  18.4     19.7     19.4       19.2\n",
       "2    Alaska           0.65     18.7  19.8     20.4     19.9       19.8\n",
       "3   Arizona           0.62     18.6  19.8     20.1     19.8       19.7\n",
       "4  Arkansas           1.00     18.9  19.0     19.7     19.5       19.4"
      ]
     },
     "execution_count": 5,
     "metadata": {},
     "output_type": "execute_result"
    }
   ],
   "source": [
    "act['Participation'] = act['Participation'].replace('%','',regex=True).astype('float')/100\n",
    "act.head(5)"
   ]
  },
  {
   "cell_type": "markdown",
   "metadata": {},
   "source": [
    "##### 7. Create a dictionary for each column mapping the State to its respective value for that column. (For example, you should have three SAT dictionaries.)"
   ]
  },
  {
   "cell_type": "code",
   "execution_count": 6,
   "metadata": {
    "scrolled": true
   },
   "outputs": [
    {
     "data": {
      "text/plain": [
       "{'Alabama': 572,\n",
       " 'Alaska': 533,\n",
       " 'Arizona': 553,\n",
       " 'Arkansas': 594,\n",
       " 'California': 524,\n",
       " 'Colorado': 595,\n",
       " 'Connecticut': 512,\n",
       " 'Delaware': 492,\n",
       " 'District of Columbia': 468,\n",
       " 'Florida': 497,\n",
       " 'Georgia': 515,\n",
       " 'Hawaii': 541,\n",
       " 'Idaho': 493,\n",
       " 'Illinois': 556,\n",
       " 'Indiana': 532,\n",
       " 'Iowa': 635,\n",
       " 'Kansas': 628,\n",
       " 'Kentucky': 616,\n",
       " 'Louisiana': 586,\n",
       " 'Maine': 499,\n",
       " 'Maryland': 52,\n",
       " 'Massachusetts': 551,\n",
       " 'Michigan': 495,\n",
       " 'Minnesota': 651,\n",
       " 'Mississippi': 607,\n",
       " 'Missouri': 631,\n",
       " 'Montana': 591,\n",
       " 'Nebraska': 625,\n",
       " 'Nevada': 553,\n",
       " 'New Hampshire': 520,\n",
       " 'New Jersey': 526,\n",
       " 'New Mexico': 561,\n",
       " 'New York': 523,\n",
       " 'North Carolina': 535,\n",
       " 'North Dakota': 621,\n",
       " 'Ohio': 570,\n",
       " 'Oklahoma': 517,\n",
       " 'Oregon': 548,\n",
       " 'Pennsylvania': 531,\n",
       " 'Rhode Island': 524,\n",
       " 'South Carolina': 521,\n",
       " 'South Dakota': 603,\n",
       " 'Tennessee': 604,\n",
       " 'Texas': 507,\n",
       " 'Utah': 614,\n",
       " 'Vermont': 551,\n",
       " 'Virginia': 541,\n",
       " 'Washington': 534,\n",
       " 'West Virginia': 528,\n",
       " 'Wisconsin': 649,\n",
       " 'Wyoming': 604}"
      ]
     },
     "execution_count": 6,
     "metadata": {},
     "output_type": "execute_result"
    }
   ],
   "source": [
    "sat.set_index('State')['Math'].to_dict() ##credit: Ken Yale"
   ]
  },
  {
   "cell_type": "code",
   "execution_count": 7,
   "metadata": {},
   "outputs": [
    {
     "data": {
      "text/plain": [
       "{'Alabama': 593,\n",
       " 'Alaska': 547,\n",
       " 'Arizona': 563,\n",
       " 'Arkansas': 614,\n",
       " 'California': 531,\n",
       " 'Colorado': 606,\n",
       " 'Connecticut': 530,\n",
       " 'Delaware': 503,\n",
       " 'District of Columbia': 482,\n",
       " 'Florida': 520,\n",
       " 'Georgia': 535,\n",
       " 'Hawaii': 544,\n",
       " 'Idaho': 513,\n",
       " 'Illinois': 559,\n",
       " 'Indiana': 542,\n",
       " 'Iowa': 641,\n",
       " 'Kansas': 632,\n",
       " 'Kentucky': 631,\n",
       " 'Louisiana': 611,\n",
       " 'Maine': 513,\n",
       " 'Maryland': 536,\n",
       " 'Massachusetts': 555,\n",
       " 'Michigan': 509,\n",
       " 'Minnesota': 644,\n",
       " 'Mississippi': 634,\n",
       " 'Missouri': 640,\n",
       " 'Montana': 605,\n",
       " 'Nebraska': 629,\n",
       " 'Nevada': 563,\n",
       " 'New Hampshire': 532,\n",
       " 'New Jersey': 530,\n",
       " 'New Mexico': 577,\n",
       " 'New York': 528,\n",
       " 'North Carolina': 546,\n",
       " 'North Dakota': 635,\n",
       " 'Ohio': 578,\n",
       " 'Oklahoma': 530,\n",
       " 'Oregon': 560,\n",
       " 'Pennsylvania': 540,\n",
       " 'Rhode Island': 539,\n",
       " 'South Carolina': 543,\n",
       " 'South Dakota': 612,\n",
       " 'Tennessee': 623,\n",
       " 'Texas': 513,\n",
       " 'Utah': 624,\n",
       " 'Vermont': 562,\n",
       " 'Virginia': 561,\n",
       " 'Washington': 541,\n",
       " 'West Virginia': 558,\n",
       " 'Wisconsin': 642,\n",
       " 'Wyoming': 626}"
      ]
     },
     "execution_count": 7,
     "metadata": {},
     "output_type": "execute_result"
    }
   ],
   "source": [
    "sat.set_index('State')['Evidence-Based Reading and Writing'].to_dict()"
   ]
  },
  {
   "cell_type": "code",
   "execution_count": 8,
   "metadata": {},
   "outputs": [
    {
     "data": {
      "text/plain": [
       "{'Alabama': 1165,\n",
       " 'Alaska': 1080,\n",
       " 'Arizona': 1116,\n",
       " 'Arkansas': 1208,\n",
       " 'California': 1055,\n",
       " 'Colorado': 1201,\n",
       " 'Connecticut': 1041,\n",
       " 'Delaware': 996,\n",
       " 'District of Columbia': 950,\n",
       " 'Florida': 1017,\n",
       " 'Georgia': 1050,\n",
       " 'Hawaii': 1085,\n",
       " 'Idaho': 1005,\n",
       " 'Illinois': 1115,\n",
       " 'Indiana': 1074,\n",
       " 'Iowa': 1275,\n",
       " 'Kansas': 1260,\n",
       " 'Kentucky': 1247,\n",
       " 'Louisiana': 1198,\n",
       " 'Maine': 1012,\n",
       " 'Maryland': 1060,\n",
       " 'Massachusetts': 1107,\n",
       " 'Michigan': 1005,\n",
       " 'Minnesota': 1295,\n",
       " 'Mississippi': 1242,\n",
       " 'Missouri': 1271,\n",
       " 'Montana': 1196,\n",
       " 'Nebraska': 1253,\n",
       " 'Nevada': 1116,\n",
       " 'New Hampshire': 1052,\n",
       " 'New Jersey': 1056,\n",
       " 'New Mexico': 1138,\n",
       " 'New York': 1052,\n",
       " 'North Carolina': 1081,\n",
       " 'North Dakota': 1256,\n",
       " 'Ohio': 1149,\n",
       " 'Oklahoma': 1047,\n",
       " 'Oregon': 1108,\n",
       " 'Pennsylvania': 1071,\n",
       " 'Rhode Island': 1062,\n",
       " 'South Carolina': 1064,\n",
       " 'South Dakota': 1216,\n",
       " 'Tennessee': 1228,\n",
       " 'Texas': 1020,\n",
       " 'Utah': 1238,\n",
       " 'Vermont': 1114,\n",
       " 'Virginia': 1102,\n",
       " 'Washington': 1075,\n",
       " 'West Virginia': 1086,\n",
       " 'Wisconsin': 1291,\n",
       " 'Wyoming': 1230}"
      ]
     },
     "execution_count": 8,
     "metadata": {},
     "output_type": "execute_result"
    }
   ],
   "source": [
    "sat.set_index('State')['Total'].to_dict()"
   ]
  },
  {
   "cell_type": "markdown",
   "metadata": {},
   "source": [
    "#### 8. Create one dictionary where each key is the column name, and each value is an iterable (a list or a Pandas Series) of all the values in that column."
   ]
  },
  {
   "cell_type": "code",
   "execution_count": 9,
   "metadata": {
    "scrolled": true
   },
   "outputs": [
    {
     "data": {
      "text/plain": [
       "{'Evidence-Based Reading and Writing': array(['Arizona', 0.3, 563, 553, 1116], dtype=object),\n",
       " 'Math': array(['Arkansas', 0.03, 614, 594, 1208], dtype=object),\n",
       " 'Participation': array(['Alaska', 0.38, 547, 533, 1080], dtype=object),\n",
       " 'State': array(['Alabama', 0.05, 593, 572, 1165], dtype=object),\n",
       " 'Total': array(['California', 0.53, 531, 524, 1055], dtype=object)}"
      ]
     },
     "execution_count": 9,
     "metadata": {},
     "output_type": "execute_result"
    }
   ],
   "source": [
    "col_names = sat.columns\n",
    "values = sat.values[:,:]\n",
    "\n",
    "new_dict = {k:v for k,v in zip(col_names, values)}\n",
    "new_dict"
   ]
  },
  {
   "cell_type": "markdown",
   "metadata": {},
   "source": [
    "##### 9. Merge the dataframes on the state column."
   ]
  },
  {
   "cell_type": "code",
   "execution_count": 10,
   "metadata": {},
   "outputs": [
    {
     "data": {
      "text/html": [
       "<div>\n",
       "<style>\n",
       "    .dataframe thead tr:only-child th {\n",
       "        text-align: right;\n",
       "    }\n",
       "\n",
       "    .dataframe thead th {\n",
       "        text-align: left;\n",
       "    }\n",
       "\n",
       "    .dataframe tbody tr th {\n",
       "        vertical-align: top;\n",
       "    }\n",
       "</style>\n",
       "<table border=\"1\" class=\"dataframe\">\n",
       "  <thead>\n",
       "    <tr style=\"text-align: right;\">\n",
       "      <th></th>\n",
       "      <th>State</th>\n",
       "      <th>ParticipationSAT</th>\n",
       "      <th>Evidence-Based Reading and Writing</th>\n",
       "      <th>MathSAT</th>\n",
       "      <th>Total</th>\n",
       "      <th>ParticipationACT</th>\n",
       "      <th>English</th>\n",
       "      <th>MathACT</th>\n",
       "      <th>Reading</th>\n",
       "      <th>Science</th>\n",
       "      <th>Composite</th>\n",
       "    </tr>\n",
       "  </thead>\n",
       "  <tbody>\n",
       "    <tr>\n",
       "      <th>0</th>\n",
       "      <td>Alabama</td>\n",
       "      <td>0.05</td>\n",
       "      <td>593</td>\n",
       "      <td>572</td>\n",
       "      <td>1165</td>\n",
       "      <td>1.00</td>\n",
       "      <td>18.9</td>\n",
       "      <td>18.4</td>\n",
       "      <td>19.7</td>\n",
       "      <td>19.4</td>\n",
       "      <td>19.2</td>\n",
       "    </tr>\n",
       "    <tr>\n",
       "      <th>1</th>\n",
       "      <td>Alaska</td>\n",
       "      <td>0.38</td>\n",
       "      <td>547</td>\n",
       "      <td>533</td>\n",
       "      <td>1080</td>\n",
       "      <td>0.65</td>\n",
       "      <td>18.7</td>\n",
       "      <td>19.8</td>\n",
       "      <td>20.4</td>\n",
       "      <td>19.9</td>\n",
       "      <td>19.8</td>\n",
       "    </tr>\n",
       "    <tr>\n",
       "      <th>2</th>\n",
       "      <td>Arizona</td>\n",
       "      <td>0.30</td>\n",
       "      <td>563</td>\n",
       "      <td>553</td>\n",
       "      <td>1116</td>\n",
       "      <td>0.62</td>\n",
       "      <td>18.6</td>\n",
       "      <td>19.8</td>\n",
       "      <td>20.1</td>\n",
       "      <td>19.8</td>\n",
       "      <td>19.7</td>\n",
       "    </tr>\n",
       "    <tr>\n",
       "      <th>3</th>\n",
       "      <td>Arkansas</td>\n",
       "      <td>0.03</td>\n",
       "      <td>614</td>\n",
       "      <td>594</td>\n",
       "      <td>1208</td>\n",
       "      <td>1.00</td>\n",
       "      <td>18.9</td>\n",
       "      <td>19.0</td>\n",
       "      <td>19.7</td>\n",
       "      <td>19.5</td>\n",
       "      <td>19.4</td>\n",
       "    </tr>\n",
       "    <tr>\n",
       "      <th>4</th>\n",
       "      <td>California</td>\n",
       "      <td>0.53</td>\n",
       "      <td>531</td>\n",
       "      <td>524</td>\n",
       "      <td>1055</td>\n",
       "      <td>0.31</td>\n",
       "      <td>22.5</td>\n",
       "      <td>22.7</td>\n",
       "      <td>23.1</td>\n",
       "      <td>22.2</td>\n",
       "      <td>22.8</td>\n",
       "    </tr>\n",
       "  </tbody>\n",
       "</table>\n",
       "</div>"
      ],
      "text/plain": [
       "        State  ParticipationSAT  Evidence-Based Reading and Writing  MathSAT  \\\n",
       "0     Alabama              0.05                                 593      572   \n",
       "1      Alaska              0.38                                 547      533   \n",
       "2     Arizona              0.30                                 563      553   \n",
       "3    Arkansas              0.03                                 614      594   \n",
       "4  California              0.53                                 531      524   \n",
       "\n",
       "   Total  ParticipationACT  English  MathACT  Reading  Science  Composite  \n",
       "0   1165              1.00     18.9     18.4     19.7     19.4       19.2  \n",
       "1   1080              0.65     18.7     19.8     20.4     19.9       19.8  \n",
       "2   1116              0.62     18.6     19.8     20.1     19.8       19.7  \n",
       "3   1208              1.00     18.9     19.0     19.7     19.5       19.4  \n",
       "4   1055              0.31     22.5     22.7     23.1     22.2       22.8  "
      ]
     },
     "execution_count": 10,
     "metadata": {},
     "output_type": "execute_result"
    }
   ],
   "source": [
    "SAT_ACT = pd.merge(sat, act, how='left', on='State', suffixes=('SAT','ACT'))\n",
    "SAT_ACT.head(5)"
   ]
  },
  {
   "cell_type": "markdown",
   "metadata": {},
   "source": [
    "##### 10. Change the names of the columns so you can distinguish between the SAT columns and the ACT columns."
   ]
  },
  {
   "cell_type": "code",
   "execution_count": 11,
   "metadata": {},
   "outputs": [
    {
     "data": {
      "text/html": [
       "<div>\n",
       "<style>\n",
       "    .dataframe thead tr:only-child th {\n",
       "        text-align: right;\n",
       "    }\n",
       "\n",
       "    .dataframe thead th {\n",
       "        text-align: left;\n",
       "    }\n",
       "\n",
       "    .dataframe tbody tr th {\n",
       "        vertical-align: top;\n",
       "    }\n",
       "</style>\n",
       "<table border=\"1\" class=\"dataframe\">\n",
       "  <thead>\n",
       "    <tr style=\"text-align: right;\">\n",
       "      <th></th>\n",
       "      <th>State</th>\n",
       "      <th>Participation_SAT</th>\n",
       "      <th>Evidence-Based Reading and Writing</th>\n",
       "      <th>MathSAT</th>\n",
       "      <th>Total</th>\n",
       "      <th>Participation_ACT</th>\n",
       "      <th>English</th>\n",
       "      <th>MathACT</th>\n",
       "      <th>Reading</th>\n",
       "      <th>Science</th>\n",
       "      <th>Composite</th>\n",
       "    </tr>\n",
       "  </thead>\n",
       "  <tbody>\n",
       "    <tr>\n",
       "      <th>0</th>\n",
       "      <td>Alabama</td>\n",
       "      <td>0.05</td>\n",
       "      <td>593</td>\n",
       "      <td>572</td>\n",
       "      <td>1165</td>\n",
       "      <td>1.00</td>\n",
       "      <td>18.9</td>\n",
       "      <td>18.4</td>\n",
       "      <td>19.7</td>\n",
       "      <td>19.4</td>\n",
       "      <td>19.2</td>\n",
       "    </tr>\n",
       "    <tr>\n",
       "      <th>1</th>\n",
       "      <td>Alaska</td>\n",
       "      <td>0.38</td>\n",
       "      <td>547</td>\n",
       "      <td>533</td>\n",
       "      <td>1080</td>\n",
       "      <td>0.65</td>\n",
       "      <td>18.7</td>\n",
       "      <td>19.8</td>\n",
       "      <td>20.4</td>\n",
       "      <td>19.9</td>\n",
       "      <td>19.8</td>\n",
       "    </tr>\n",
       "    <tr>\n",
       "      <th>2</th>\n",
       "      <td>Arizona</td>\n",
       "      <td>0.30</td>\n",
       "      <td>563</td>\n",
       "      <td>553</td>\n",
       "      <td>1116</td>\n",
       "      <td>0.62</td>\n",
       "      <td>18.6</td>\n",
       "      <td>19.8</td>\n",
       "      <td>20.1</td>\n",
       "      <td>19.8</td>\n",
       "      <td>19.7</td>\n",
       "    </tr>\n",
       "    <tr>\n",
       "      <th>3</th>\n",
       "      <td>Arkansas</td>\n",
       "      <td>0.03</td>\n",
       "      <td>614</td>\n",
       "      <td>594</td>\n",
       "      <td>1208</td>\n",
       "      <td>1.00</td>\n",
       "      <td>18.9</td>\n",
       "      <td>19.0</td>\n",
       "      <td>19.7</td>\n",
       "      <td>19.5</td>\n",
       "      <td>19.4</td>\n",
       "    </tr>\n",
       "    <tr>\n",
       "      <th>4</th>\n",
       "      <td>California</td>\n",
       "      <td>0.53</td>\n",
       "      <td>531</td>\n",
       "      <td>524</td>\n",
       "      <td>1055</td>\n",
       "      <td>0.31</td>\n",
       "      <td>22.5</td>\n",
       "      <td>22.7</td>\n",
       "      <td>23.1</td>\n",
       "      <td>22.2</td>\n",
       "      <td>22.8</td>\n",
       "    </tr>\n",
       "  </tbody>\n",
       "</table>\n",
       "</div>"
      ],
      "text/plain": [
       "        State  Participation_SAT  Evidence-Based Reading and Writing  MathSAT  \\\n",
       "0     Alabama               0.05                                 593      572   \n",
       "1      Alaska               0.38                                 547      533   \n",
       "2     Arizona               0.30                                 563      553   \n",
       "3    Arkansas               0.03                                 614      594   \n",
       "4  California               0.53                                 531      524   \n",
       "\n",
       "   Total  Participation_ACT  English  MathACT  Reading  Science  Composite  \n",
       "0   1165               1.00     18.9     18.4     19.7     19.4       19.2  \n",
       "1   1080               0.65     18.7     19.8     20.4     19.9       19.8  \n",
       "2   1116               0.62     18.6     19.8     20.1     19.8       19.7  \n",
       "3   1208               1.00     18.9     19.0     19.7     19.5       19.4  \n",
       "4   1055               0.31     22.5     22.7     23.1     22.2       22.8  "
      ]
     },
     "execution_count": 11,
     "metadata": {},
     "output_type": "execute_result"
    }
   ],
   "source": [
    "SAT_ACT = SAT_ACT.rename(columns={'ParticipationACT': 'Participation_ACT', 'ParticipationSAT': 'Participation_SAT'})\n",
    "SAT_ACT.head(5)"
   ]
  },
  {
   "cell_type": "code",
   "execution_count": 12,
   "metadata": {},
   "outputs": [
    {
     "data": {
      "text/html": [
       "<div>\n",
       "<style>\n",
       "    .dataframe thead tr:only-child th {\n",
       "        text-align: right;\n",
       "    }\n",
       "\n",
       "    .dataframe thead th {\n",
       "        text-align: left;\n",
       "    }\n",
       "\n",
       "    .dataframe tbody tr th {\n",
       "        vertical-align: top;\n",
       "    }\n",
       "</style>\n",
       "<table border=\"1\" class=\"dataframe\">\n",
       "  <thead>\n",
       "    <tr style=\"text-align: right;\">\n",
       "      <th></th>\n",
       "      <th>State</th>\n",
       "      <th>Participation_SAT</th>\n",
       "      <th>Evidence-Based Reading and Writing</th>\n",
       "      <th>Math_SAT</th>\n",
       "      <th>Total</th>\n",
       "      <th>Participation_ACT</th>\n",
       "      <th>English</th>\n",
       "      <th>Math_ACT</th>\n",
       "      <th>Reading</th>\n",
       "      <th>Science</th>\n",
       "      <th>Composite</th>\n",
       "    </tr>\n",
       "  </thead>\n",
       "  <tbody>\n",
       "    <tr>\n",
       "      <th>0</th>\n",
       "      <td>Alabama</td>\n",
       "      <td>0.05</td>\n",
       "      <td>593</td>\n",
       "      <td>572</td>\n",
       "      <td>1165</td>\n",
       "      <td>1.00</td>\n",
       "      <td>18.9</td>\n",
       "      <td>18.4</td>\n",
       "      <td>19.7</td>\n",
       "      <td>19.4</td>\n",
       "      <td>19.2</td>\n",
       "    </tr>\n",
       "    <tr>\n",
       "      <th>1</th>\n",
       "      <td>Alaska</td>\n",
       "      <td>0.38</td>\n",
       "      <td>547</td>\n",
       "      <td>533</td>\n",
       "      <td>1080</td>\n",
       "      <td>0.65</td>\n",
       "      <td>18.7</td>\n",
       "      <td>19.8</td>\n",
       "      <td>20.4</td>\n",
       "      <td>19.9</td>\n",
       "      <td>19.8</td>\n",
       "    </tr>\n",
       "    <tr>\n",
       "      <th>2</th>\n",
       "      <td>Arizona</td>\n",
       "      <td>0.30</td>\n",
       "      <td>563</td>\n",
       "      <td>553</td>\n",
       "      <td>1116</td>\n",
       "      <td>0.62</td>\n",
       "      <td>18.6</td>\n",
       "      <td>19.8</td>\n",
       "      <td>20.1</td>\n",
       "      <td>19.8</td>\n",
       "      <td>19.7</td>\n",
       "    </tr>\n",
       "    <tr>\n",
       "      <th>3</th>\n",
       "      <td>Arkansas</td>\n",
       "      <td>0.03</td>\n",
       "      <td>614</td>\n",
       "      <td>594</td>\n",
       "      <td>1208</td>\n",
       "      <td>1.00</td>\n",
       "      <td>18.9</td>\n",
       "      <td>19.0</td>\n",
       "      <td>19.7</td>\n",
       "      <td>19.5</td>\n",
       "      <td>19.4</td>\n",
       "    </tr>\n",
       "    <tr>\n",
       "      <th>4</th>\n",
       "      <td>California</td>\n",
       "      <td>0.53</td>\n",
       "      <td>531</td>\n",
       "      <td>524</td>\n",
       "      <td>1055</td>\n",
       "      <td>0.31</td>\n",
       "      <td>22.5</td>\n",
       "      <td>22.7</td>\n",
       "      <td>23.1</td>\n",
       "      <td>22.2</td>\n",
       "      <td>22.8</td>\n",
       "    </tr>\n",
       "  </tbody>\n",
       "</table>\n",
       "</div>"
      ],
      "text/plain": [
       "        State  Participation_SAT  Evidence-Based Reading and Writing  \\\n",
       "0     Alabama               0.05                                 593   \n",
       "1      Alaska               0.38                                 547   \n",
       "2     Arizona               0.30                                 563   \n",
       "3    Arkansas               0.03                                 614   \n",
       "4  California               0.53                                 531   \n",
       "\n",
       "   Math_SAT  Total  Participation_ACT  English  Math_ACT  Reading  Science  \\\n",
       "0       572   1165               1.00     18.9      18.4     19.7     19.4   \n",
       "1       533   1080               0.65     18.7      19.8     20.4     19.9   \n",
       "2       553   1116               0.62     18.6      19.8     20.1     19.8   \n",
       "3       594   1208               1.00     18.9      19.0     19.7     19.5   \n",
       "4       524   1055               0.31     22.5      22.7     23.1     22.2   \n",
       "\n",
       "   Composite  \n",
       "0       19.2  \n",
       "1       19.8  \n",
       "2       19.7  \n",
       "3       19.4  \n",
       "4       22.8  "
      ]
     },
     "execution_count": 12,
     "metadata": {},
     "output_type": "execute_result"
    }
   ],
   "source": [
    "SAT_ACT = SAT_ACT.rename(columns={'MathSAT': 'Math_SAT', 'MathACT': 'Math_ACT'})\n",
    "SAT_ACT.head(5)"
   ]
  },
  {
   "cell_type": "code",
   "execution_count": 13,
   "metadata": {
    "scrolled": false
   },
   "outputs": [
    {
     "data": {
      "text/html": [
       "<div>\n",
       "<style>\n",
       "    .dataframe thead tr:only-child th {\n",
       "        text-align: right;\n",
       "    }\n",
       "\n",
       "    .dataframe thead th {\n",
       "        text-align: left;\n",
       "    }\n",
       "\n",
       "    .dataframe tbody tr th {\n",
       "        vertical-align: top;\n",
       "    }\n",
       "</style>\n",
       "<table border=\"1\" class=\"dataframe\">\n",
       "  <thead>\n",
       "    <tr style=\"text-align: right;\">\n",
       "      <th></th>\n",
       "      <th>State</th>\n",
       "      <th>Participation_SAT</th>\n",
       "      <th>Evidence-Based Reading and Writing_SAT</th>\n",
       "      <th>Math_SAT</th>\n",
       "      <th>Total_SAT</th>\n",
       "      <th>Participation_ACT</th>\n",
       "      <th>English_ACT</th>\n",
       "      <th>Math_ACT</th>\n",
       "      <th>Reading_ACT</th>\n",
       "      <th>Science_ACT</th>\n",
       "      <th>Composite_ACT</th>\n",
       "    </tr>\n",
       "  </thead>\n",
       "  <tbody>\n",
       "    <tr>\n",
       "      <th>0</th>\n",
       "      <td>Alabama</td>\n",
       "      <td>0.05</td>\n",
       "      <td>593</td>\n",
       "      <td>572</td>\n",
       "      <td>1165</td>\n",
       "      <td>1.00</td>\n",
       "      <td>18.9</td>\n",
       "      <td>18.4</td>\n",
       "      <td>19.7</td>\n",
       "      <td>19.4</td>\n",
       "      <td>19.2</td>\n",
       "    </tr>\n",
       "    <tr>\n",
       "      <th>1</th>\n",
       "      <td>Alaska</td>\n",
       "      <td>0.38</td>\n",
       "      <td>547</td>\n",
       "      <td>533</td>\n",
       "      <td>1080</td>\n",
       "      <td>0.65</td>\n",
       "      <td>18.7</td>\n",
       "      <td>19.8</td>\n",
       "      <td>20.4</td>\n",
       "      <td>19.9</td>\n",
       "      <td>19.8</td>\n",
       "    </tr>\n",
       "    <tr>\n",
       "      <th>2</th>\n",
       "      <td>Arizona</td>\n",
       "      <td>0.30</td>\n",
       "      <td>563</td>\n",
       "      <td>553</td>\n",
       "      <td>1116</td>\n",
       "      <td>0.62</td>\n",
       "      <td>18.6</td>\n",
       "      <td>19.8</td>\n",
       "      <td>20.1</td>\n",
       "      <td>19.8</td>\n",
       "      <td>19.7</td>\n",
       "    </tr>\n",
       "    <tr>\n",
       "      <th>3</th>\n",
       "      <td>Arkansas</td>\n",
       "      <td>0.03</td>\n",
       "      <td>614</td>\n",
       "      <td>594</td>\n",
       "      <td>1208</td>\n",
       "      <td>1.00</td>\n",
       "      <td>18.9</td>\n",
       "      <td>19.0</td>\n",
       "      <td>19.7</td>\n",
       "      <td>19.5</td>\n",
       "      <td>19.4</td>\n",
       "    </tr>\n",
       "    <tr>\n",
       "      <th>4</th>\n",
       "      <td>California</td>\n",
       "      <td>0.53</td>\n",
       "      <td>531</td>\n",
       "      <td>524</td>\n",
       "      <td>1055</td>\n",
       "      <td>0.31</td>\n",
       "      <td>22.5</td>\n",
       "      <td>22.7</td>\n",
       "      <td>23.1</td>\n",
       "      <td>22.2</td>\n",
       "      <td>22.8</td>\n",
       "    </tr>\n",
       "  </tbody>\n",
       "</table>\n",
       "</div>"
      ],
      "text/plain": [
       "        State  Participation_SAT  Evidence-Based Reading and Writing_SAT  \\\n",
       "0     Alabama               0.05                                     593   \n",
       "1      Alaska               0.38                                     547   \n",
       "2     Arizona               0.30                                     563   \n",
       "3    Arkansas               0.03                                     614   \n",
       "4  California               0.53                                     531   \n",
       "\n",
       "   Math_SAT  Total_SAT  Participation_ACT  English_ACT  Math_ACT  Reading_ACT  \\\n",
       "0       572       1165               1.00         18.9      18.4         19.7   \n",
       "1       533       1080               0.65         18.7      19.8         20.4   \n",
       "2       553       1116               0.62         18.6      19.8         20.1   \n",
       "3       594       1208               1.00         18.9      19.0         19.7   \n",
       "4       524       1055               0.31         22.5      22.7         23.1   \n",
       "\n",
       "   Science_ACT  Composite_ACT  \n",
       "0         19.4           19.2  \n",
       "1         19.9           19.8  \n",
       "2         19.8           19.7  \n",
       "3         19.5           19.4  \n",
       "4         22.2           22.8  "
      ]
     },
     "execution_count": 13,
     "metadata": {},
     "output_type": "execute_result"
    }
   ],
   "source": [
    "SAT_ACT = SAT_ACT.rename(columns = {'Evidence-Based Reading and Writing': 'Evidence-Based Reading and Writing_SAT', 'Total': 'Total_SAT', 'English': 'English_ACT', 'Reading': 'Reading_ACT', 'Science': 'Science_ACT', 'Composite': 'Composite_ACT'})\n",
    "SAT_ACT.head(5)"
   ]
  },
  {
   "cell_type": "markdown",
   "metadata": {},
   "source": [
    "##### 11. Print the minimum and maximum of each numeric column in the data frame."
   ]
  },
  {
   "cell_type": "code",
   "execution_count": 14,
   "metadata": {},
   "outputs": [
    {
     "data": {
      "text/html": [
       "<div>\n",
       "<style>\n",
       "    .dataframe thead tr:only-child th {\n",
       "        text-align: right;\n",
       "    }\n",
       "\n",
       "    .dataframe thead th {\n",
       "        text-align: left;\n",
       "    }\n",
       "\n",
       "    .dataframe tbody tr th {\n",
       "        vertical-align: top;\n",
       "    }\n",
       "</style>\n",
       "<table border=\"1\" class=\"dataframe\">\n",
       "  <thead>\n",
       "    <tr style=\"text-align: right;\">\n",
       "      <th></th>\n",
       "      <th>Participation_SAT</th>\n",
       "      <th>Evidence-Based Reading and Writing_SAT</th>\n",
       "      <th>Math_SAT</th>\n",
       "      <th>Total_SAT</th>\n",
       "      <th>Participation_ACT</th>\n",
       "      <th>English_ACT</th>\n",
       "      <th>Math_ACT</th>\n",
       "      <th>Reading_ACT</th>\n",
       "      <th>Science_ACT</th>\n",
       "      <th>Composite_ACT</th>\n",
       "    </tr>\n",
       "  </thead>\n",
       "  <tbody>\n",
       "    <tr>\n",
       "      <th>min</th>\n",
       "      <td>0.02</td>\n",
       "      <td>482</td>\n",
       "      <td>52</td>\n",
       "      <td>950</td>\n",
       "      <td>0.08</td>\n",
       "      <td>16.3</td>\n",
       "      <td>18.0</td>\n",
       "      <td>18.1</td>\n",
       "      <td>2.3</td>\n",
       "      <td>17.8</td>\n",
       "    </tr>\n",
       "    <tr>\n",
       "      <th>max</th>\n",
       "      <td>1.00</td>\n",
       "      <td>644</td>\n",
       "      <td>651</td>\n",
       "      <td>1295</td>\n",
       "      <td>1.00</td>\n",
       "      <td>25.5</td>\n",
       "      <td>25.3</td>\n",
       "      <td>26.0</td>\n",
       "      <td>24.9</td>\n",
       "      <td>25.5</td>\n",
       "    </tr>\n",
       "  </tbody>\n",
       "</table>\n",
       "</div>"
      ],
      "text/plain": [
       "     Participation_SAT  Evidence-Based Reading and Writing_SAT  Math_SAT  \\\n",
       "min               0.02                                     482        52   \n",
       "max               1.00                                     644       651   \n",
       "\n",
       "     Total_SAT  Participation_ACT  English_ACT  Math_ACT  Reading_ACT  \\\n",
       "min        950               0.08         16.3      18.0         18.1   \n",
       "max       1295               1.00         25.5      25.3         26.0   \n",
       "\n",
       "     Science_ACT  Composite_ACT  \n",
       "min          2.3           17.8  \n",
       "max         24.9           25.5  "
      ]
     },
     "execution_count": 14,
     "metadata": {},
     "output_type": "execute_result"
    }
   ],
   "source": [
    "sat_act_agg = SAT_ACT.agg({'Participation_SAT':['min','max'], ##Hector Ian Martinez\n",
    "             'Evidence-Based Reading and Writing_SAT':['min','max'],\n",
    "             'Math_SAT':['min','max'],\n",
    "            'Total_SAT':['min', 'max'],\n",
    "            'Participation_ACT':['min','max'],\n",
    "            'English_ACT':['min','max'],\n",
    "             'Math_ACT':['min','max'],\n",
    "             'Reading_ACT':['min','max'],\n",
    "             'Science_ACT':['min','max'],\n",
    "             'Composite_ACT':['min','max']\n",
    "            })\n",
    "sat_act_agg\n",
    "\n",
    "##This was done to collect all minmium and maximum values of each numeric column in the data frame. "
   ]
  },
  {
   "cell_type": "markdown",
   "metadata": {},
   "source": [
    "##### 12. Write a function using only list comprehensions, no loops, to compute standard deviation. Using this function, calculate the standard deviation of each numeric column in both data sets. Add these to a list called `sd`.\n",
    "\n",
    "$$\\sigma = \\sqrt{\\frac{1}{n}\\sum_{i=1}^n(x_i - \\mu)^2}$$"
   ]
  },
  {
   "cell_type": "code",
   "execution_count": 15,
   "metadata": {
    "collapsed": true
   },
   "outputs": [],
   "source": [
    "def standard_deviation(lst): ##credit: Hector Ian Martinez\n",
    "    '''We want to calculate the standard deviation of the list'''\n",
    "    mean_value = np.mean(lst) \n",
    "    inside_root = sum([(i-mean_value)**2 for i in lst]) / len(lst)\n",
    "    return np.sqrt(inside_root)"
   ]
  },
  {
   "cell_type": "code",
   "execution_count": 16,
   "metadata": {},
   "outputs": [
    {
     "data": {
      "text/plain": [
       "Participation_SAT                          0.349291\n",
       "Evidence-Based Reading and Writing_SAT    45.216970\n",
       "Math_SAT                                  84.072555\n",
       "Total_SAT                                 91.583511\n",
       "Participation_ACT                          0.318242\n",
       "English_ACT                                2.330488\n",
       "Math_ACT                                   1.962462\n",
       "Reading_ACT                                2.046903\n",
       "Science_ACT                                3.151108\n",
       "Composite_ACT                              2.000786\n",
       "dtype: float64"
      ]
     },
     "execution_count": 16,
     "metadata": {},
     "output_type": "execute_result"
    }
   ],
   "source": [
    "sd = SAT_ACT.iloc[:,1:].apply(standard_deviation) ##Micheal Schillawski\n",
    "sd ##this applies to all relevant values of each column that needs to be included to calcluate the standard deviation"
   ]
  },
  {
   "cell_type": "markdown",
   "metadata": {},
   "source": [
    "## Step 2: Manipulate the dataframe"
   ]
  },
  {
   "cell_type": "markdown",
   "metadata": {},
   "source": [
    "##### 13. Turn the list `sd` into a new observation in your dataset."
   ]
  },
  {
   "cell_type": "code",
   "execution_count": 17,
   "metadata": {
    "scrolled": true
   },
   "outputs": [
    {
     "data": {
      "text/html": [
       "<div>\n",
       "<style>\n",
       "    .dataframe thead tr:only-child th {\n",
       "        text-align: right;\n",
       "    }\n",
       "\n",
       "    .dataframe thead th {\n",
       "        text-align: left;\n",
       "    }\n",
       "\n",
       "    .dataframe tbody tr th {\n",
       "        vertical-align: top;\n",
       "    }\n",
       "</style>\n",
       "<table border=\"1\" class=\"dataframe\">\n",
       "  <thead>\n",
       "    <tr style=\"text-align: right;\">\n",
       "      <th></th>\n",
       "      <th>State</th>\n",
       "      <th>Participation_SAT</th>\n",
       "      <th>Evidence-Based Reading and Writing_SAT</th>\n",
       "      <th>Math_SAT</th>\n",
       "      <th>Total_SAT</th>\n",
       "      <th>Participation_ACT</th>\n",
       "      <th>English_ACT</th>\n",
       "      <th>Math_ACT</th>\n",
       "      <th>Reading_ACT</th>\n",
       "      <th>Science_ACT</th>\n",
       "      <th>Composite_ACT</th>\n",
       "    </tr>\n",
       "  </thead>\n",
       "  <tbody>\n",
       "    <tr>\n",
       "      <th>0</th>\n",
       "      <td>Alabama</td>\n",
       "      <td>0.050000</td>\n",
       "      <td>593.00000</td>\n",
       "      <td>572.000000</td>\n",
       "      <td>1165.000000</td>\n",
       "      <td>1.000000</td>\n",
       "      <td>18.900000</td>\n",
       "      <td>18.400000</td>\n",
       "      <td>19.700000</td>\n",
       "      <td>19.400000</td>\n",
       "      <td>19.200000</td>\n",
       "    </tr>\n",
       "    <tr>\n",
       "      <th>1</th>\n",
       "      <td>Alaska</td>\n",
       "      <td>0.380000</td>\n",
       "      <td>547.00000</td>\n",
       "      <td>533.000000</td>\n",
       "      <td>1080.000000</td>\n",
       "      <td>0.650000</td>\n",
       "      <td>18.700000</td>\n",
       "      <td>19.800000</td>\n",
       "      <td>20.400000</td>\n",
       "      <td>19.900000</td>\n",
       "      <td>19.800000</td>\n",
       "    </tr>\n",
       "    <tr>\n",
       "      <th>2</th>\n",
       "      <td>Arizona</td>\n",
       "      <td>0.300000</td>\n",
       "      <td>563.00000</td>\n",
       "      <td>553.000000</td>\n",
       "      <td>1116.000000</td>\n",
       "      <td>0.620000</td>\n",
       "      <td>18.600000</td>\n",
       "      <td>19.800000</td>\n",
       "      <td>20.100000</td>\n",
       "      <td>19.800000</td>\n",
       "      <td>19.700000</td>\n",
       "    </tr>\n",
       "    <tr>\n",
       "      <th>3</th>\n",
       "      <td>Arkansas</td>\n",
       "      <td>0.030000</td>\n",
       "      <td>614.00000</td>\n",
       "      <td>594.000000</td>\n",
       "      <td>1208.000000</td>\n",
       "      <td>1.000000</td>\n",
       "      <td>18.900000</td>\n",
       "      <td>19.000000</td>\n",
       "      <td>19.700000</td>\n",
       "      <td>19.500000</td>\n",
       "      <td>19.400000</td>\n",
       "    </tr>\n",
       "    <tr>\n",
       "      <th>4</th>\n",
       "      <td>California</td>\n",
       "      <td>0.530000</td>\n",
       "      <td>531.00000</td>\n",
       "      <td>524.000000</td>\n",
       "      <td>1055.000000</td>\n",
       "      <td>0.310000</td>\n",
       "      <td>22.500000</td>\n",
       "      <td>22.700000</td>\n",
       "      <td>23.100000</td>\n",
       "      <td>22.200000</td>\n",
       "      <td>22.800000</td>\n",
       "    </tr>\n",
       "    <tr>\n",
       "      <th>5</th>\n",
       "      <td>Colorado</td>\n",
       "      <td>0.110000</td>\n",
       "      <td>606.00000</td>\n",
       "      <td>595.000000</td>\n",
       "      <td>1201.000000</td>\n",
       "      <td>1.000000</td>\n",
       "      <td>20.100000</td>\n",
       "      <td>20.300000</td>\n",
       "      <td>21.200000</td>\n",
       "      <td>20.900000</td>\n",
       "      <td>20.800000</td>\n",
       "    </tr>\n",
       "    <tr>\n",
       "      <th>6</th>\n",
       "      <td>Connecticut</td>\n",
       "      <td>1.000000</td>\n",
       "      <td>530.00000</td>\n",
       "      <td>512.000000</td>\n",
       "      <td>1041.000000</td>\n",
       "      <td>0.310000</td>\n",
       "      <td>25.500000</td>\n",
       "      <td>24.600000</td>\n",
       "      <td>25.600000</td>\n",
       "      <td>24.600000</td>\n",
       "      <td>25.200000</td>\n",
       "    </tr>\n",
       "    <tr>\n",
       "      <th>7</th>\n",
       "      <td>Delaware</td>\n",
       "      <td>1.000000</td>\n",
       "      <td>503.00000</td>\n",
       "      <td>492.000000</td>\n",
       "      <td>996.000000</td>\n",
       "      <td>0.180000</td>\n",
       "      <td>24.100000</td>\n",
       "      <td>23.400000</td>\n",
       "      <td>24.800000</td>\n",
       "      <td>23.600000</td>\n",
       "      <td>24.100000</td>\n",
       "    </tr>\n",
       "    <tr>\n",
       "      <th>8</th>\n",
       "      <td>District of Columbia</td>\n",
       "      <td>1.000000</td>\n",
       "      <td>482.00000</td>\n",
       "      <td>468.000000</td>\n",
       "      <td>950.000000</td>\n",
       "      <td>0.320000</td>\n",
       "      <td>24.400000</td>\n",
       "      <td>23.500000</td>\n",
       "      <td>24.900000</td>\n",
       "      <td>23.500000</td>\n",
       "      <td>24.200000</td>\n",
       "    </tr>\n",
       "    <tr>\n",
       "      <th>9</th>\n",
       "      <td>Florida</td>\n",
       "      <td>0.830000</td>\n",
       "      <td>520.00000</td>\n",
       "      <td>497.000000</td>\n",
       "      <td>1017.000000</td>\n",
       "      <td>0.730000</td>\n",
       "      <td>19.000000</td>\n",
       "      <td>19.400000</td>\n",
       "      <td>21.000000</td>\n",
       "      <td>19.400000</td>\n",
       "      <td>19.800000</td>\n",
       "    </tr>\n",
       "    <tr>\n",
       "      <th>10</th>\n",
       "      <td>Georgia</td>\n",
       "      <td>0.610000</td>\n",
       "      <td>535.00000</td>\n",
       "      <td>515.000000</td>\n",
       "      <td>1050.000000</td>\n",
       "      <td>0.550000</td>\n",
       "      <td>21.000000</td>\n",
       "      <td>20.900000</td>\n",
       "      <td>22.000000</td>\n",
       "      <td>21.300000</td>\n",
       "      <td>21.400000</td>\n",
       "    </tr>\n",
       "    <tr>\n",
       "      <th>11</th>\n",
       "      <td>Hawaii</td>\n",
       "      <td>0.550000</td>\n",
       "      <td>544.00000</td>\n",
       "      <td>541.000000</td>\n",
       "      <td>1085.000000</td>\n",
       "      <td>0.900000</td>\n",
       "      <td>17.800000</td>\n",
       "      <td>19.200000</td>\n",
       "      <td>19.200000</td>\n",
       "      <td>19.300000</td>\n",
       "      <td>19.000000</td>\n",
       "    </tr>\n",
       "    <tr>\n",
       "      <th>12</th>\n",
       "      <td>Idaho</td>\n",
       "      <td>0.930000</td>\n",
       "      <td>513.00000</td>\n",
       "      <td>493.000000</td>\n",
       "      <td>1005.000000</td>\n",
       "      <td>0.380000</td>\n",
       "      <td>21.900000</td>\n",
       "      <td>21.800000</td>\n",
       "      <td>23.000000</td>\n",
       "      <td>22.100000</td>\n",
       "      <td>22.300000</td>\n",
       "    </tr>\n",
       "    <tr>\n",
       "      <th>13</th>\n",
       "      <td>Illinois</td>\n",
       "      <td>0.090000</td>\n",
       "      <td>559.00000</td>\n",
       "      <td>556.000000</td>\n",
       "      <td>1115.000000</td>\n",
       "      <td>0.930000</td>\n",
       "      <td>21.000000</td>\n",
       "      <td>21.200000</td>\n",
       "      <td>21.600000</td>\n",
       "      <td>21.300000</td>\n",
       "      <td>21.400000</td>\n",
       "    </tr>\n",
       "    <tr>\n",
       "      <th>14</th>\n",
       "      <td>Indiana</td>\n",
       "      <td>0.630000</td>\n",
       "      <td>542.00000</td>\n",
       "      <td>532.000000</td>\n",
       "      <td>1074.000000</td>\n",
       "      <td>0.350000</td>\n",
       "      <td>22.000000</td>\n",
       "      <td>22.400000</td>\n",
       "      <td>23.200000</td>\n",
       "      <td>22.300000</td>\n",
       "      <td>22.600000</td>\n",
       "    </tr>\n",
       "    <tr>\n",
       "      <th>15</th>\n",
       "      <td>Iowa</td>\n",
       "      <td>0.020000</td>\n",
       "      <td>641.00000</td>\n",
       "      <td>635.000000</td>\n",
       "      <td>1275.000000</td>\n",
       "      <td>0.670000</td>\n",
       "      <td>21.200000</td>\n",
       "      <td>21.300000</td>\n",
       "      <td>22.600000</td>\n",
       "      <td>22.100000</td>\n",
       "      <td>21.900000</td>\n",
       "    </tr>\n",
       "    <tr>\n",
       "      <th>16</th>\n",
       "      <td>Kansas</td>\n",
       "      <td>0.040000</td>\n",
       "      <td>632.00000</td>\n",
       "      <td>628.000000</td>\n",
       "      <td>1260.000000</td>\n",
       "      <td>0.730000</td>\n",
       "      <td>21.100000</td>\n",
       "      <td>21.300000</td>\n",
       "      <td>22.300000</td>\n",
       "      <td>21.700000</td>\n",
       "      <td>21.700000</td>\n",
       "    </tr>\n",
       "    <tr>\n",
       "      <th>17</th>\n",
       "      <td>Kentucky</td>\n",
       "      <td>0.040000</td>\n",
       "      <td>631.00000</td>\n",
       "      <td>616.000000</td>\n",
       "      <td>1247.000000</td>\n",
       "      <td>1.000000</td>\n",
       "      <td>19.600000</td>\n",
       "      <td>19.400000</td>\n",
       "      <td>20.500000</td>\n",
       "      <td>20.100000</td>\n",
       "      <td>20.000000</td>\n",
       "    </tr>\n",
       "    <tr>\n",
       "      <th>18</th>\n",
       "      <td>Louisiana</td>\n",
       "      <td>0.040000</td>\n",
       "      <td>611.00000</td>\n",
       "      <td>586.000000</td>\n",
       "      <td>1198.000000</td>\n",
       "      <td>1.000000</td>\n",
       "      <td>19.400000</td>\n",
       "      <td>18.800000</td>\n",
       "      <td>19.800000</td>\n",
       "      <td>19.600000</td>\n",
       "      <td>19.500000</td>\n",
       "    </tr>\n",
       "    <tr>\n",
       "      <th>19</th>\n",
       "      <td>Maine</td>\n",
       "      <td>0.950000</td>\n",
       "      <td>513.00000</td>\n",
       "      <td>499.000000</td>\n",
       "      <td>1012.000000</td>\n",
       "      <td>0.080000</td>\n",
       "      <td>24.200000</td>\n",
       "      <td>24.000000</td>\n",
       "      <td>24.800000</td>\n",
       "      <td>23.700000</td>\n",
       "      <td>24.300000</td>\n",
       "    </tr>\n",
       "    <tr>\n",
       "      <th>20</th>\n",
       "      <td>Maryland</td>\n",
       "      <td>0.690000</td>\n",
       "      <td>536.00000</td>\n",
       "      <td>52.000000</td>\n",
       "      <td>1060.000000</td>\n",
       "      <td>0.280000</td>\n",
       "      <td>23.300000</td>\n",
       "      <td>23.100000</td>\n",
       "      <td>24.200000</td>\n",
       "      <td>2.300000</td>\n",
       "      <td>23.600000</td>\n",
       "    </tr>\n",
       "    <tr>\n",
       "      <th>21</th>\n",
       "      <td>Massachusetts</td>\n",
       "      <td>0.760000</td>\n",
       "      <td>555.00000</td>\n",
       "      <td>551.000000</td>\n",
       "      <td>1107.000000</td>\n",
       "      <td>0.290000</td>\n",
       "      <td>25.400000</td>\n",
       "      <td>25.300000</td>\n",
       "      <td>25.900000</td>\n",
       "      <td>24.700000</td>\n",
       "      <td>25.400000</td>\n",
       "    </tr>\n",
       "    <tr>\n",
       "      <th>22</th>\n",
       "      <td>Michigan</td>\n",
       "      <td>1.000000</td>\n",
       "      <td>509.00000</td>\n",
       "      <td>495.000000</td>\n",
       "      <td>1005.000000</td>\n",
       "      <td>0.290000</td>\n",
       "      <td>24.100000</td>\n",
       "      <td>23.700000</td>\n",
       "      <td>24.500000</td>\n",
       "      <td>23.800000</td>\n",
       "      <td>24.100000</td>\n",
       "    </tr>\n",
       "    <tr>\n",
       "      <th>23</th>\n",
       "      <td>Minnesota</td>\n",
       "      <td>0.030000</td>\n",
       "      <td>644.00000</td>\n",
       "      <td>651.000000</td>\n",
       "      <td>1295.000000</td>\n",
       "      <td>1.000000</td>\n",
       "      <td>20.400000</td>\n",
       "      <td>21.500000</td>\n",
       "      <td>21.800000</td>\n",
       "      <td>21.600000</td>\n",
       "      <td>21.500000</td>\n",
       "    </tr>\n",
       "    <tr>\n",
       "      <th>24</th>\n",
       "      <td>Mississippi</td>\n",
       "      <td>0.020000</td>\n",
       "      <td>634.00000</td>\n",
       "      <td>607.000000</td>\n",
       "      <td>1242.000000</td>\n",
       "      <td>1.000000</td>\n",
       "      <td>18.200000</td>\n",
       "      <td>18.100000</td>\n",
       "      <td>18.800000</td>\n",
       "      <td>18.800000</td>\n",
       "      <td>18.600000</td>\n",
       "    </tr>\n",
       "    <tr>\n",
       "      <th>25</th>\n",
       "      <td>Missouri</td>\n",
       "      <td>0.030000</td>\n",
       "      <td>640.00000</td>\n",
       "      <td>631.000000</td>\n",
       "      <td>1271.000000</td>\n",
       "      <td>1.000000</td>\n",
       "      <td>19.800000</td>\n",
       "      <td>19.900000</td>\n",
       "      <td>20.800000</td>\n",
       "      <td>20.500000</td>\n",
       "      <td>20.400000</td>\n",
       "    </tr>\n",
       "    <tr>\n",
       "      <th>26</th>\n",
       "      <td>Montana</td>\n",
       "      <td>0.100000</td>\n",
       "      <td>605.00000</td>\n",
       "      <td>591.000000</td>\n",
       "      <td>1196.000000</td>\n",
       "      <td>1.000000</td>\n",
       "      <td>19.000000</td>\n",
       "      <td>20.200000</td>\n",
       "      <td>21.000000</td>\n",
       "      <td>20.500000</td>\n",
       "      <td>20.300000</td>\n",
       "    </tr>\n",
       "    <tr>\n",
       "      <th>27</th>\n",
       "      <td>Nebraska</td>\n",
       "      <td>0.030000</td>\n",
       "      <td>629.00000</td>\n",
       "      <td>625.000000</td>\n",
       "      <td>1253.000000</td>\n",
       "      <td>0.840000</td>\n",
       "      <td>20.900000</td>\n",
       "      <td>20.900000</td>\n",
       "      <td>21.900000</td>\n",
       "      <td>21.500000</td>\n",
       "      <td>21.400000</td>\n",
       "    </tr>\n",
       "    <tr>\n",
       "      <th>28</th>\n",
       "      <td>Nevada</td>\n",
       "      <td>0.260000</td>\n",
       "      <td>563.00000</td>\n",
       "      <td>553.000000</td>\n",
       "      <td>1116.000000</td>\n",
       "      <td>1.000000</td>\n",
       "      <td>16.300000</td>\n",
       "      <td>18.000000</td>\n",
       "      <td>18.100000</td>\n",
       "      <td>18.200000</td>\n",
       "      <td>17.800000</td>\n",
       "    </tr>\n",
       "    <tr>\n",
       "      <th>29</th>\n",
       "      <td>New Hampshire</td>\n",
       "      <td>0.960000</td>\n",
       "      <td>532.00000</td>\n",
       "      <td>520.000000</td>\n",
       "      <td>1052.000000</td>\n",
       "      <td>0.180000</td>\n",
       "      <td>25.400000</td>\n",
       "      <td>25.100000</td>\n",
       "      <td>26.000000</td>\n",
       "      <td>24.900000</td>\n",
       "      <td>25.500000</td>\n",
       "    </tr>\n",
       "    <tr>\n",
       "      <th>30</th>\n",
       "      <td>New Jersey</td>\n",
       "      <td>0.700000</td>\n",
       "      <td>530.00000</td>\n",
       "      <td>526.000000</td>\n",
       "      <td>1056.000000</td>\n",
       "      <td>0.340000</td>\n",
       "      <td>23.800000</td>\n",
       "      <td>23.800000</td>\n",
       "      <td>24.100000</td>\n",
       "      <td>23.200000</td>\n",
       "      <td>23.900000</td>\n",
       "    </tr>\n",
       "    <tr>\n",
       "      <th>31</th>\n",
       "      <td>New Mexico</td>\n",
       "      <td>0.110000</td>\n",
       "      <td>577.00000</td>\n",
       "      <td>561.000000</td>\n",
       "      <td>1138.000000</td>\n",
       "      <td>0.660000</td>\n",
       "      <td>18.600000</td>\n",
       "      <td>19.400000</td>\n",
       "      <td>20.400000</td>\n",
       "      <td>20.000000</td>\n",
       "      <td>19.700000</td>\n",
       "    </tr>\n",
       "    <tr>\n",
       "      <th>32</th>\n",
       "      <td>New York</td>\n",
       "      <td>0.670000</td>\n",
       "      <td>528.00000</td>\n",
       "      <td>523.000000</td>\n",
       "      <td>1052.000000</td>\n",
       "      <td>0.310000</td>\n",
       "      <td>23.800000</td>\n",
       "      <td>24.000000</td>\n",
       "      <td>24.600000</td>\n",
       "      <td>23.900000</td>\n",
       "      <td>24.200000</td>\n",
       "    </tr>\n",
       "    <tr>\n",
       "      <th>33</th>\n",
       "      <td>North Carolina</td>\n",
       "      <td>0.490000</td>\n",
       "      <td>546.00000</td>\n",
       "      <td>535.000000</td>\n",
       "      <td>1081.000000</td>\n",
       "      <td>1.000000</td>\n",
       "      <td>17.800000</td>\n",
       "      <td>19.300000</td>\n",
       "      <td>19.600000</td>\n",
       "      <td>19.300000</td>\n",
       "      <td>19.100000</td>\n",
       "    </tr>\n",
       "    <tr>\n",
       "      <th>34</th>\n",
       "      <td>North Dakota</td>\n",
       "      <td>0.020000</td>\n",
       "      <td>635.00000</td>\n",
       "      <td>621.000000</td>\n",
       "      <td>1256.000000</td>\n",
       "      <td>0.980000</td>\n",
       "      <td>19.000000</td>\n",
       "      <td>20.400000</td>\n",
       "      <td>20.500000</td>\n",
       "      <td>20.600000</td>\n",
       "      <td>20.300000</td>\n",
       "    </tr>\n",
       "    <tr>\n",
       "      <th>35</th>\n",
       "      <td>Ohio</td>\n",
       "      <td>0.120000</td>\n",
       "      <td>578.00000</td>\n",
       "      <td>570.000000</td>\n",
       "      <td>1149.000000</td>\n",
       "      <td>0.750000</td>\n",
       "      <td>21.200000</td>\n",
       "      <td>21.600000</td>\n",
       "      <td>22.500000</td>\n",
       "      <td>22.000000</td>\n",
       "      <td>22.000000</td>\n",
       "    </tr>\n",
       "    <tr>\n",
       "      <th>36</th>\n",
       "      <td>Oklahoma</td>\n",
       "      <td>0.070000</td>\n",
       "      <td>530.00000</td>\n",
       "      <td>517.000000</td>\n",
       "      <td>1047.000000</td>\n",
       "      <td>1.000000</td>\n",
       "      <td>18.500000</td>\n",
       "      <td>18.800000</td>\n",
       "      <td>20.100000</td>\n",
       "      <td>19.600000</td>\n",
       "      <td>19.400000</td>\n",
       "    </tr>\n",
       "    <tr>\n",
       "      <th>37</th>\n",
       "      <td>Oregon</td>\n",
       "      <td>0.430000</td>\n",
       "      <td>560.00000</td>\n",
       "      <td>548.000000</td>\n",
       "      <td>1108.000000</td>\n",
       "      <td>0.400000</td>\n",
       "      <td>21.200000</td>\n",
       "      <td>21.500000</td>\n",
       "      <td>22.400000</td>\n",
       "      <td>21.700000</td>\n",
       "      <td>21.800000</td>\n",
       "    </tr>\n",
       "    <tr>\n",
       "      <th>38</th>\n",
       "      <td>Pennsylvania</td>\n",
       "      <td>0.650000</td>\n",
       "      <td>540.00000</td>\n",
       "      <td>531.000000</td>\n",
       "      <td>1071.000000</td>\n",
       "      <td>0.230000</td>\n",
       "      <td>23.400000</td>\n",
       "      <td>23.400000</td>\n",
       "      <td>24.200000</td>\n",
       "      <td>23.300000</td>\n",
       "      <td>23.700000</td>\n",
       "    </tr>\n",
       "    <tr>\n",
       "      <th>39</th>\n",
       "      <td>Rhode Island</td>\n",
       "      <td>0.710000</td>\n",
       "      <td>539.00000</td>\n",
       "      <td>524.000000</td>\n",
       "      <td>1062.000000</td>\n",
       "      <td>0.210000</td>\n",
       "      <td>24.000000</td>\n",
       "      <td>23.300000</td>\n",
       "      <td>24.700000</td>\n",
       "      <td>23.400000</td>\n",
       "      <td>24.000000</td>\n",
       "    </tr>\n",
       "    <tr>\n",
       "      <th>40</th>\n",
       "      <td>South Carolina</td>\n",
       "      <td>0.500000</td>\n",
       "      <td>543.00000</td>\n",
       "      <td>521.000000</td>\n",
       "      <td>1064.000000</td>\n",
       "      <td>1.000000</td>\n",
       "      <td>17.500000</td>\n",
       "      <td>18.600000</td>\n",
       "      <td>19.100000</td>\n",
       "      <td>18.900000</td>\n",
       "      <td>18.700000</td>\n",
       "    </tr>\n",
       "    <tr>\n",
       "      <th>41</th>\n",
       "      <td>South Dakota</td>\n",
       "      <td>0.030000</td>\n",
       "      <td>612.00000</td>\n",
       "      <td>603.000000</td>\n",
       "      <td>1216.000000</td>\n",
       "      <td>0.800000</td>\n",
       "      <td>20.700000</td>\n",
       "      <td>21.500000</td>\n",
       "      <td>22.300000</td>\n",
       "      <td>22.000000</td>\n",
       "      <td>21.800000</td>\n",
       "    </tr>\n",
       "    <tr>\n",
       "      <th>42</th>\n",
       "      <td>Tennessee</td>\n",
       "      <td>0.050000</td>\n",
       "      <td>623.00000</td>\n",
       "      <td>604.000000</td>\n",
       "      <td>1228.000000</td>\n",
       "      <td>1.000000</td>\n",
       "      <td>19.500000</td>\n",
       "      <td>19.200000</td>\n",
       "      <td>20.100000</td>\n",
       "      <td>19.900000</td>\n",
       "      <td>19.800000</td>\n",
       "    </tr>\n",
       "    <tr>\n",
       "      <th>43</th>\n",
       "      <td>Texas</td>\n",
       "      <td>0.620000</td>\n",
       "      <td>513.00000</td>\n",
       "      <td>507.000000</td>\n",
       "      <td>1020.000000</td>\n",
       "      <td>0.450000</td>\n",
       "      <td>19.500000</td>\n",
       "      <td>20.700000</td>\n",
       "      <td>21.100000</td>\n",
       "      <td>20.900000</td>\n",
       "      <td>20.700000</td>\n",
       "    </tr>\n",
       "    <tr>\n",
       "      <th>44</th>\n",
       "      <td>Utah</td>\n",
       "      <td>0.030000</td>\n",
       "      <td>624.00000</td>\n",
       "      <td>614.000000</td>\n",
       "      <td>1238.000000</td>\n",
       "      <td>1.000000</td>\n",
       "      <td>19.500000</td>\n",
       "      <td>19.900000</td>\n",
       "      <td>20.800000</td>\n",
       "      <td>20.600000</td>\n",
       "      <td>20.300000</td>\n",
       "    </tr>\n",
       "    <tr>\n",
       "      <th>45</th>\n",
       "      <td>Vermont</td>\n",
       "      <td>0.600000</td>\n",
       "      <td>562.00000</td>\n",
       "      <td>551.000000</td>\n",
       "      <td>1114.000000</td>\n",
       "      <td>0.290000</td>\n",
       "      <td>23.300000</td>\n",
       "      <td>23.100000</td>\n",
       "      <td>24.400000</td>\n",
       "      <td>23.200000</td>\n",
       "      <td>23.600000</td>\n",
       "    </tr>\n",
       "    <tr>\n",
       "      <th>46</th>\n",
       "      <td>Virginia</td>\n",
       "      <td>0.650000</td>\n",
       "      <td>561.00000</td>\n",
       "      <td>541.000000</td>\n",
       "      <td>1102.000000</td>\n",
       "      <td>0.290000</td>\n",
       "      <td>23.500000</td>\n",
       "      <td>23.300000</td>\n",
       "      <td>24.600000</td>\n",
       "      <td>23.500000</td>\n",
       "      <td>23.800000</td>\n",
       "    </tr>\n",
       "    <tr>\n",
       "      <th>47</th>\n",
       "      <td>Washington</td>\n",
       "      <td>0.640000</td>\n",
       "      <td>541.00000</td>\n",
       "      <td>534.000000</td>\n",
       "      <td>1075.000000</td>\n",
       "      <td>0.290000</td>\n",
       "      <td>20.900000</td>\n",
       "      <td>21.900000</td>\n",
       "      <td>22.100000</td>\n",
       "      <td>22.000000</td>\n",
       "      <td>21.900000</td>\n",
       "    </tr>\n",
       "    <tr>\n",
       "      <th>48</th>\n",
       "      <td>West Virginia</td>\n",
       "      <td>0.140000</td>\n",
       "      <td>558.00000</td>\n",
       "      <td>528.000000</td>\n",
       "      <td>1086.000000</td>\n",
       "      <td>0.690000</td>\n",
       "      <td>20.000000</td>\n",
       "      <td>19.400000</td>\n",
       "      <td>21.200000</td>\n",
       "      <td>20.500000</td>\n",
       "      <td>20.400000</td>\n",
       "    </tr>\n",
       "    <tr>\n",
       "      <th>49</th>\n",
       "      <td>Wisconsin</td>\n",
       "      <td>0.030000</td>\n",
       "      <td>642.00000</td>\n",
       "      <td>649.000000</td>\n",
       "      <td>1291.000000</td>\n",
       "      <td>1.000000</td>\n",
       "      <td>19.700000</td>\n",
       "      <td>20.400000</td>\n",
       "      <td>20.600000</td>\n",
       "      <td>20.900000</td>\n",
       "      <td>20.500000</td>\n",
       "    </tr>\n",
       "    <tr>\n",
       "      <th>50</th>\n",
       "      <td>Wyoming</td>\n",
       "      <td>0.030000</td>\n",
       "      <td>626.00000</td>\n",
       "      <td>604.000000</td>\n",
       "      <td>1230.000000</td>\n",
       "      <td>1.000000</td>\n",
       "      <td>19.400000</td>\n",
       "      <td>19.800000</td>\n",
       "      <td>20.800000</td>\n",
       "      <td>20.600000</td>\n",
       "      <td>20.200000</td>\n",
       "    </tr>\n",
       "    <tr>\n",
       "      <th>51</th>\n",
       "      <td>NaN</td>\n",
       "      <td>0.349291</td>\n",
       "      <td>45.21697</td>\n",
       "      <td>84.072555</td>\n",
       "      <td>91.583511</td>\n",
       "      <td>0.318242</td>\n",
       "      <td>2.330488</td>\n",
       "      <td>1.962462</td>\n",
       "      <td>2.046903</td>\n",
       "      <td>3.151108</td>\n",
       "      <td>2.000786</td>\n",
       "    </tr>\n",
       "  </tbody>\n",
       "</table>\n",
       "</div>"
      ],
      "text/plain": [
       "                   State  Participation_SAT  \\\n",
       "0                Alabama           0.050000   \n",
       "1                 Alaska           0.380000   \n",
       "2                Arizona           0.300000   \n",
       "3               Arkansas           0.030000   \n",
       "4             California           0.530000   \n",
       "5               Colorado           0.110000   \n",
       "6            Connecticut           1.000000   \n",
       "7               Delaware           1.000000   \n",
       "8   District of Columbia           1.000000   \n",
       "9                Florida           0.830000   \n",
       "10               Georgia           0.610000   \n",
       "11                Hawaii           0.550000   \n",
       "12                 Idaho           0.930000   \n",
       "13              Illinois           0.090000   \n",
       "14               Indiana           0.630000   \n",
       "15                  Iowa           0.020000   \n",
       "16                Kansas           0.040000   \n",
       "17              Kentucky           0.040000   \n",
       "18             Louisiana           0.040000   \n",
       "19                 Maine           0.950000   \n",
       "20              Maryland           0.690000   \n",
       "21         Massachusetts           0.760000   \n",
       "22              Michigan           1.000000   \n",
       "23             Minnesota           0.030000   \n",
       "24           Mississippi           0.020000   \n",
       "25              Missouri           0.030000   \n",
       "26               Montana           0.100000   \n",
       "27              Nebraska           0.030000   \n",
       "28                Nevada           0.260000   \n",
       "29         New Hampshire           0.960000   \n",
       "30            New Jersey           0.700000   \n",
       "31            New Mexico           0.110000   \n",
       "32              New York           0.670000   \n",
       "33        North Carolina           0.490000   \n",
       "34          North Dakota           0.020000   \n",
       "35                  Ohio           0.120000   \n",
       "36              Oklahoma           0.070000   \n",
       "37                Oregon           0.430000   \n",
       "38          Pennsylvania           0.650000   \n",
       "39          Rhode Island           0.710000   \n",
       "40        South Carolina           0.500000   \n",
       "41          South Dakota           0.030000   \n",
       "42             Tennessee           0.050000   \n",
       "43                 Texas           0.620000   \n",
       "44                  Utah           0.030000   \n",
       "45               Vermont           0.600000   \n",
       "46              Virginia           0.650000   \n",
       "47            Washington           0.640000   \n",
       "48         West Virginia           0.140000   \n",
       "49             Wisconsin           0.030000   \n",
       "50               Wyoming           0.030000   \n",
       "51                   NaN           0.349291   \n",
       "\n",
       "    Evidence-Based Reading and Writing_SAT    Math_SAT    Total_SAT  \\\n",
       "0                                593.00000  572.000000  1165.000000   \n",
       "1                                547.00000  533.000000  1080.000000   \n",
       "2                                563.00000  553.000000  1116.000000   \n",
       "3                                614.00000  594.000000  1208.000000   \n",
       "4                                531.00000  524.000000  1055.000000   \n",
       "5                                606.00000  595.000000  1201.000000   \n",
       "6                                530.00000  512.000000  1041.000000   \n",
       "7                                503.00000  492.000000   996.000000   \n",
       "8                                482.00000  468.000000   950.000000   \n",
       "9                                520.00000  497.000000  1017.000000   \n",
       "10                               535.00000  515.000000  1050.000000   \n",
       "11                               544.00000  541.000000  1085.000000   \n",
       "12                               513.00000  493.000000  1005.000000   \n",
       "13                               559.00000  556.000000  1115.000000   \n",
       "14                               542.00000  532.000000  1074.000000   \n",
       "15                               641.00000  635.000000  1275.000000   \n",
       "16                               632.00000  628.000000  1260.000000   \n",
       "17                               631.00000  616.000000  1247.000000   \n",
       "18                               611.00000  586.000000  1198.000000   \n",
       "19                               513.00000  499.000000  1012.000000   \n",
       "20                               536.00000   52.000000  1060.000000   \n",
       "21                               555.00000  551.000000  1107.000000   \n",
       "22                               509.00000  495.000000  1005.000000   \n",
       "23                               644.00000  651.000000  1295.000000   \n",
       "24                               634.00000  607.000000  1242.000000   \n",
       "25                               640.00000  631.000000  1271.000000   \n",
       "26                               605.00000  591.000000  1196.000000   \n",
       "27                               629.00000  625.000000  1253.000000   \n",
       "28                               563.00000  553.000000  1116.000000   \n",
       "29                               532.00000  520.000000  1052.000000   \n",
       "30                               530.00000  526.000000  1056.000000   \n",
       "31                               577.00000  561.000000  1138.000000   \n",
       "32                               528.00000  523.000000  1052.000000   \n",
       "33                               546.00000  535.000000  1081.000000   \n",
       "34                               635.00000  621.000000  1256.000000   \n",
       "35                               578.00000  570.000000  1149.000000   \n",
       "36                               530.00000  517.000000  1047.000000   \n",
       "37                               560.00000  548.000000  1108.000000   \n",
       "38                               540.00000  531.000000  1071.000000   \n",
       "39                               539.00000  524.000000  1062.000000   \n",
       "40                               543.00000  521.000000  1064.000000   \n",
       "41                               612.00000  603.000000  1216.000000   \n",
       "42                               623.00000  604.000000  1228.000000   \n",
       "43                               513.00000  507.000000  1020.000000   \n",
       "44                               624.00000  614.000000  1238.000000   \n",
       "45                               562.00000  551.000000  1114.000000   \n",
       "46                               561.00000  541.000000  1102.000000   \n",
       "47                               541.00000  534.000000  1075.000000   \n",
       "48                               558.00000  528.000000  1086.000000   \n",
       "49                               642.00000  649.000000  1291.000000   \n",
       "50                               626.00000  604.000000  1230.000000   \n",
       "51                                45.21697   84.072555    91.583511   \n",
       "\n",
       "    Participation_ACT  English_ACT   Math_ACT  Reading_ACT  Science_ACT  \\\n",
       "0            1.000000    18.900000  18.400000    19.700000    19.400000   \n",
       "1            0.650000    18.700000  19.800000    20.400000    19.900000   \n",
       "2            0.620000    18.600000  19.800000    20.100000    19.800000   \n",
       "3            1.000000    18.900000  19.000000    19.700000    19.500000   \n",
       "4            0.310000    22.500000  22.700000    23.100000    22.200000   \n",
       "5            1.000000    20.100000  20.300000    21.200000    20.900000   \n",
       "6            0.310000    25.500000  24.600000    25.600000    24.600000   \n",
       "7            0.180000    24.100000  23.400000    24.800000    23.600000   \n",
       "8            0.320000    24.400000  23.500000    24.900000    23.500000   \n",
       "9            0.730000    19.000000  19.400000    21.000000    19.400000   \n",
       "10           0.550000    21.000000  20.900000    22.000000    21.300000   \n",
       "11           0.900000    17.800000  19.200000    19.200000    19.300000   \n",
       "12           0.380000    21.900000  21.800000    23.000000    22.100000   \n",
       "13           0.930000    21.000000  21.200000    21.600000    21.300000   \n",
       "14           0.350000    22.000000  22.400000    23.200000    22.300000   \n",
       "15           0.670000    21.200000  21.300000    22.600000    22.100000   \n",
       "16           0.730000    21.100000  21.300000    22.300000    21.700000   \n",
       "17           1.000000    19.600000  19.400000    20.500000    20.100000   \n",
       "18           1.000000    19.400000  18.800000    19.800000    19.600000   \n",
       "19           0.080000    24.200000  24.000000    24.800000    23.700000   \n",
       "20           0.280000    23.300000  23.100000    24.200000     2.300000   \n",
       "21           0.290000    25.400000  25.300000    25.900000    24.700000   \n",
       "22           0.290000    24.100000  23.700000    24.500000    23.800000   \n",
       "23           1.000000    20.400000  21.500000    21.800000    21.600000   \n",
       "24           1.000000    18.200000  18.100000    18.800000    18.800000   \n",
       "25           1.000000    19.800000  19.900000    20.800000    20.500000   \n",
       "26           1.000000    19.000000  20.200000    21.000000    20.500000   \n",
       "27           0.840000    20.900000  20.900000    21.900000    21.500000   \n",
       "28           1.000000    16.300000  18.000000    18.100000    18.200000   \n",
       "29           0.180000    25.400000  25.100000    26.000000    24.900000   \n",
       "30           0.340000    23.800000  23.800000    24.100000    23.200000   \n",
       "31           0.660000    18.600000  19.400000    20.400000    20.000000   \n",
       "32           0.310000    23.800000  24.000000    24.600000    23.900000   \n",
       "33           1.000000    17.800000  19.300000    19.600000    19.300000   \n",
       "34           0.980000    19.000000  20.400000    20.500000    20.600000   \n",
       "35           0.750000    21.200000  21.600000    22.500000    22.000000   \n",
       "36           1.000000    18.500000  18.800000    20.100000    19.600000   \n",
       "37           0.400000    21.200000  21.500000    22.400000    21.700000   \n",
       "38           0.230000    23.400000  23.400000    24.200000    23.300000   \n",
       "39           0.210000    24.000000  23.300000    24.700000    23.400000   \n",
       "40           1.000000    17.500000  18.600000    19.100000    18.900000   \n",
       "41           0.800000    20.700000  21.500000    22.300000    22.000000   \n",
       "42           1.000000    19.500000  19.200000    20.100000    19.900000   \n",
       "43           0.450000    19.500000  20.700000    21.100000    20.900000   \n",
       "44           1.000000    19.500000  19.900000    20.800000    20.600000   \n",
       "45           0.290000    23.300000  23.100000    24.400000    23.200000   \n",
       "46           0.290000    23.500000  23.300000    24.600000    23.500000   \n",
       "47           0.290000    20.900000  21.900000    22.100000    22.000000   \n",
       "48           0.690000    20.000000  19.400000    21.200000    20.500000   \n",
       "49           1.000000    19.700000  20.400000    20.600000    20.900000   \n",
       "50           1.000000    19.400000  19.800000    20.800000    20.600000   \n",
       "51           0.318242     2.330488   1.962462     2.046903     3.151108   \n",
       "\n",
       "    Composite_ACT  \n",
       "0       19.200000  \n",
       "1       19.800000  \n",
       "2       19.700000  \n",
       "3       19.400000  \n",
       "4       22.800000  \n",
       "5       20.800000  \n",
       "6       25.200000  \n",
       "7       24.100000  \n",
       "8       24.200000  \n",
       "9       19.800000  \n",
       "10      21.400000  \n",
       "11      19.000000  \n",
       "12      22.300000  \n",
       "13      21.400000  \n",
       "14      22.600000  \n",
       "15      21.900000  \n",
       "16      21.700000  \n",
       "17      20.000000  \n",
       "18      19.500000  \n",
       "19      24.300000  \n",
       "20      23.600000  \n",
       "21      25.400000  \n",
       "22      24.100000  \n",
       "23      21.500000  \n",
       "24      18.600000  \n",
       "25      20.400000  \n",
       "26      20.300000  \n",
       "27      21.400000  \n",
       "28      17.800000  \n",
       "29      25.500000  \n",
       "30      23.900000  \n",
       "31      19.700000  \n",
       "32      24.200000  \n",
       "33      19.100000  \n",
       "34      20.300000  \n",
       "35      22.000000  \n",
       "36      19.400000  \n",
       "37      21.800000  \n",
       "38      23.700000  \n",
       "39      24.000000  \n",
       "40      18.700000  \n",
       "41      21.800000  \n",
       "42      19.800000  \n",
       "43      20.700000  \n",
       "44      20.300000  \n",
       "45      23.600000  \n",
       "46      23.800000  \n",
       "47      21.900000  \n",
       "48      20.400000  \n",
       "49      20.500000  \n",
       "50      20.200000  \n",
       "51       2.000786  "
      ]
     },
     "execution_count": 17,
     "metadata": {},
     "output_type": "execute_result"
    }
   ],
   "source": [
    "sd = SAT_ACT.append(sd, ignore_index=True)\n",
    "sd "
   ]
  },
  {
   "cell_type": "markdown",
   "metadata": {},
   "source": [
    "##### 14. Sort the dataframe by the values in a numeric column (e.g. observations descending by SAT participation rate)"
   ]
  },
  {
   "cell_type": "code",
   "execution_count": 18,
   "metadata": {
    "scrolled": true
   },
   "outputs": [
    {
     "data": {
      "text/html": [
       "<div>\n",
       "<style>\n",
       "    .dataframe thead tr:only-child th {\n",
       "        text-align: right;\n",
       "    }\n",
       "\n",
       "    .dataframe thead th {\n",
       "        text-align: left;\n",
       "    }\n",
       "\n",
       "    .dataframe tbody tr th {\n",
       "        vertical-align: top;\n",
       "    }\n",
       "</style>\n",
       "<table border=\"1\" class=\"dataframe\">\n",
       "  <thead>\n",
       "    <tr style=\"text-align: right;\">\n",
       "      <th></th>\n",
       "      <th>State</th>\n",
       "      <th>Participation_SAT</th>\n",
       "      <th>Evidence-Based Reading and Writing_SAT</th>\n",
       "      <th>Math_SAT</th>\n",
       "      <th>Total_SAT</th>\n",
       "      <th>Participation_ACT</th>\n",
       "      <th>English_ACT</th>\n",
       "      <th>Math_ACT</th>\n",
       "      <th>Reading_ACT</th>\n",
       "      <th>Science_ACT</th>\n",
       "      <th>Composite_ACT</th>\n",
       "    </tr>\n",
       "  </thead>\n",
       "  <tbody>\n",
       "    <tr>\n",
       "      <th>8</th>\n",
       "      <td>District of Columbia</td>\n",
       "      <td>1.00</td>\n",
       "      <td>482</td>\n",
       "      <td>468</td>\n",
       "      <td>950</td>\n",
       "      <td>0.32</td>\n",
       "      <td>24.4</td>\n",
       "      <td>23.5</td>\n",
       "      <td>24.9</td>\n",
       "      <td>23.5</td>\n",
       "      <td>24.2</td>\n",
       "    </tr>\n",
       "    <tr>\n",
       "      <th>22</th>\n",
       "      <td>Michigan</td>\n",
       "      <td>1.00</td>\n",
       "      <td>509</td>\n",
       "      <td>495</td>\n",
       "      <td>1005</td>\n",
       "      <td>0.29</td>\n",
       "      <td>24.1</td>\n",
       "      <td>23.7</td>\n",
       "      <td>24.5</td>\n",
       "      <td>23.8</td>\n",
       "      <td>24.1</td>\n",
       "    </tr>\n",
       "    <tr>\n",
       "      <th>6</th>\n",
       "      <td>Connecticut</td>\n",
       "      <td>1.00</td>\n",
       "      <td>530</td>\n",
       "      <td>512</td>\n",
       "      <td>1041</td>\n",
       "      <td>0.31</td>\n",
       "      <td>25.5</td>\n",
       "      <td>24.6</td>\n",
       "      <td>25.6</td>\n",
       "      <td>24.6</td>\n",
       "      <td>25.2</td>\n",
       "    </tr>\n",
       "    <tr>\n",
       "      <th>7</th>\n",
       "      <td>Delaware</td>\n",
       "      <td>1.00</td>\n",
       "      <td>503</td>\n",
       "      <td>492</td>\n",
       "      <td>996</td>\n",
       "      <td>0.18</td>\n",
       "      <td>24.1</td>\n",
       "      <td>23.4</td>\n",
       "      <td>24.8</td>\n",
       "      <td>23.6</td>\n",
       "      <td>24.1</td>\n",
       "    </tr>\n",
       "    <tr>\n",
       "      <th>29</th>\n",
       "      <td>New Hampshire</td>\n",
       "      <td>0.96</td>\n",
       "      <td>532</td>\n",
       "      <td>520</td>\n",
       "      <td>1052</td>\n",
       "      <td>0.18</td>\n",
       "      <td>25.4</td>\n",
       "      <td>25.1</td>\n",
       "      <td>26.0</td>\n",
       "      <td>24.9</td>\n",
       "      <td>25.5</td>\n",
       "    </tr>\n",
       "    <tr>\n",
       "      <th>19</th>\n",
       "      <td>Maine</td>\n",
       "      <td>0.95</td>\n",
       "      <td>513</td>\n",
       "      <td>499</td>\n",
       "      <td>1012</td>\n",
       "      <td>0.08</td>\n",
       "      <td>24.2</td>\n",
       "      <td>24.0</td>\n",
       "      <td>24.8</td>\n",
       "      <td>23.7</td>\n",
       "      <td>24.3</td>\n",
       "    </tr>\n",
       "    <tr>\n",
       "      <th>12</th>\n",
       "      <td>Idaho</td>\n",
       "      <td>0.93</td>\n",
       "      <td>513</td>\n",
       "      <td>493</td>\n",
       "      <td>1005</td>\n",
       "      <td>0.38</td>\n",
       "      <td>21.9</td>\n",
       "      <td>21.8</td>\n",
       "      <td>23.0</td>\n",
       "      <td>22.1</td>\n",
       "      <td>22.3</td>\n",
       "    </tr>\n",
       "    <tr>\n",
       "      <th>9</th>\n",
       "      <td>Florida</td>\n",
       "      <td>0.83</td>\n",
       "      <td>520</td>\n",
       "      <td>497</td>\n",
       "      <td>1017</td>\n",
       "      <td>0.73</td>\n",
       "      <td>19.0</td>\n",
       "      <td>19.4</td>\n",
       "      <td>21.0</td>\n",
       "      <td>19.4</td>\n",
       "      <td>19.8</td>\n",
       "    </tr>\n",
       "    <tr>\n",
       "      <th>21</th>\n",
       "      <td>Massachusetts</td>\n",
       "      <td>0.76</td>\n",
       "      <td>555</td>\n",
       "      <td>551</td>\n",
       "      <td>1107</td>\n",
       "      <td>0.29</td>\n",
       "      <td>25.4</td>\n",
       "      <td>25.3</td>\n",
       "      <td>25.9</td>\n",
       "      <td>24.7</td>\n",
       "      <td>25.4</td>\n",
       "    </tr>\n",
       "    <tr>\n",
       "      <th>39</th>\n",
       "      <td>Rhode Island</td>\n",
       "      <td>0.71</td>\n",
       "      <td>539</td>\n",
       "      <td>524</td>\n",
       "      <td>1062</td>\n",
       "      <td>0.21</td>\n",
       "      <td>24.0</td>\n",
       "      <td>23.3</td>\n",
       "      <td>24.7</td>\n",
       "      <td>23.4</td>\n",
       "      <td>24.0</td>\n",
       "    </tr>\n",
       "    <tr>\n",
       "      <th>30</th>\n",
       "      <td>New Jersey</td>\n",
       "      <td>0.70</td>\n",
       "      <td>530</td>\n",
       "      <td>526</td>\n",
       "      <td>1056</td>\n",
       "      <td>0.34</td>\n",
       "      <td>23.8</td>\n",
       "      <td>23.8</td>\n",
       "      <td>24.1</td>\n",
       "      <td>23.2</td>\n",
       "      <td>23.9</td>\n",
       "    </tr>\n",
       "    <tr>\n",
       "      <th>20</th>\n",
       "      <td>Maryland</td>\n",
       "      <td>0.69</td>\n",
       "      <td>536</td>\n",
       "      <td>52</td>\n",
       "      <td>1060</td>\n",
       "      <td>0.28</td>\n",
       "      <td>23.3</td>\n",
       "      <td>23.1</td>\n",
       "      <td>24.2</td>\n",
       "      <td>2.3</td>\n",
       "      <td>23.6</td>\n",
       "    </tr>\n",
       "    <tr>\n",
       "      <th>32</th>\n",
       "      <td>New York</td>\n",
       "      <td>0.67</td>\n",
       "      <td>528</td>\n",
       "      <td>523</td>\n",
       "      <td>1052</td>\n",
       "      <td>0.31</td>\n",
       "      <td>23.8</td>\n",
       "      <td>24.0</td>\n",
       "      <td>24.6</td>\n",
       "      <td>23.9</td>\n",
       "      <td>24.2</td>\n",
       "    </tr>\n",
       "    <tr>\n",
       "      <th>46</th>\n",
       "      <td>Virginia</td>\n",
       "      <td>0.65</td>\n",
       "      <td>561</td>\n",
       "      <td>541</td>\n",
       "      <td>1102</td>\n",
       "      <td>0.29</td>\n",
       "      <td>23.5</td>\n",
       "      <td>23.3</td>\n",
       "      <td>24.6</td>\n",
       "      <td>23.5</td>\n",
       "      <td>23.8</td>\n",
       "    </tr>\n",
       "    <tr>\n",
       "      <th>38</th>\n",
       "      <td>Pennsylvania</td>\n",
       "      <td>0.65</td>\n",
       "      <td>540</td>\n",
       "      <td>531</td>\n",
       "      <td>1071</td>\n",
       "      <td>0.23</td>\n",
       "      <td>23.4</td>\n",
       "      <td>23.4</td>\n",
       "      <td>24.2</td>\n",
       "      <td>23.3</td>\n",
       "      <td>23.7</td>\n",
       "    </tr>\n",
       "    <tr>\n",
       "      <th>47</th>\n",
       "      <td>Washington</td>\n",
       "      <td>0.64</td>\n",
       "      <td>541</td>\n",
       "      <td>534</td>\n",
       "      <td>1075</td>\n",
       "      <td>0.29</td>\n",
       "      <td>20.9</td>\n",
       "      <td>21.9</td>\n",
       "      <td>22.1</td>\n",
       "      <td>22.0</td>\n",
       "      <td>21.9</td>\n",
       "    </tr>\n",
       "    <tr>\n",
       "      <th>14</th>\n",
       "      <td>Indiana</td>\n",
       "      <td>0.63</td>\n",
       "      <td>542</td>\n",
       "      <td>532</td>\n",
       "      <td>1074</td>\n",
       "      <td>0.35</td>\n",
       "      <td>22.0</td>\n",
       "      <td>22.4</td>\n",
       "      <td>23.2</td>\n",
       "      <td>22.3</td>\n",
       "      <td>22.6</td>\n",
       "    </tr>\n",
       "    <tr>\n",
       "      <th>43</th>\n",
       "      <td>Texas</td>\n",
       "      <td>0.62</td>\n",
       "      <td>513</td>\n",
       "      <td>507</td>\n",
       "      <td>1020</td>\n",
       "      <td>0.45</td>\n",
       "      <td>19.5</td>\n",
       "      <td>20.7</td>\n",
       "      <td>21.1</td>\n",
       "      <td>20.9</td>\n",
       "      <td>20.7</td>\n",
       "    </tr>\n",
       "    <tr>\n",
       "      <th>10</th>\n",
       "      <td>Georgia</td>\n",
       "      <td>0.61</td>\n",
       "      <td>535</td>\n",
       "      <td>515</td>\n",
       "      <td>1050</td>\n",
       "      <td>0.55</td>\n",
       "      <td>21.0</td>\n",
       "      <td>20.9</td>\n",
       "      <td>22.0</td>\n",
       "      <td>21.3</td>\n",
       "      <td>21.4</td>\n",
       "    </tr>\n",
       "    <tr>\n",
       "      <th>45</th>\n",
       "      <td>Vermont</td>\n",
       "      <td>0.60</td>\n",
       "      <td>562</td>\n",
       "      <td>551</td>\n",
       "      <td>1114</td>\n",
       "      <td>0.29</td>\n",
       "      <td>23.3</td>\n",
       "      <td>23.1</td>\n",
       "      <td>24.4</td>\n",
       "      <td>23.2</td>\n",
       "      <td>23.6</td>\n",
       "    </tr>\n",
       "    <tr>\n",
       "      <th>11</th>\n",
       "      <td>Hawaii</td>\n",
       "      <td>0.55</td>\n",
       "      <td>544</td>\n",
       "      <td>541</td>\n",
       "      <td>1085</td>\n",
       "      <td>0.90</td>\n",
       "      <td>17.8</td>\n",
       "      <td>19.2</td>\n",
       "      <td>19.2</td>\n",
       "      <td>19.3</td>\n",
       "      <td>19.0</td>\n",
       "    </tr>\n",
       "    <tr>\n",
       "      <th>4</th>\n",
       "      <td>California</td>\n",
       "      <td>0.53</td>\n",
       "      <td>531</td>\n",
       "      <td>524</td>\n",
       "      <td>1055</td>\n",
       "      <td>0.31</td>\n",
       "      <td>22.5</td>\n",
       "      <td>22.7</td>\n",
       "      <td>23.1</td>\n",
       "      <td>22.2</td>\n",
       "      <td>22.8</td>\n",
       "    </tr>\n",
       "    <tr>\n",
       "      <th>40</th>\n",
       "      <td>South Carolina</td>\n",
       "      <td>0.50</td>\n",
       "      <td>543</td>\n",
       "      <td>521</td>\n",
       "      <td>1064</td>\n",
       "      <td>1.00</td>\n",
       "      <td>17.5</td>\n",
       "      <td>18.6</td>\n",
       "      <td>19.1</td>\n",
       "      <td>18.9</td>\n",
       "      <td>18.7</td>\n",
       "    </tr>\n",
       "    <tr>\n",
       "      <th>33</th>\n",
       "      <td>North Carolina</td>\n",
       "      <td>0.49</td>\n",
       "      <td>546</td>\n",
       "      <td>535</td>\n",
       "      <td>1081</td>\n",
       "      <td>1.00</td>\n",
       "      <td>17.8</td>\n",
       "      <td>19.3</td>\n",
       "      <td>19.6</td>\n",
       "      <td>19.3</td>\n",
       "      <td>19.1</td>\n",
       "    </tr>\n",
       "    <tr>\n",
       "      <th>37</th>\n",
       "      <td>Oregon</td>\n",
       "      <td>0.43</td>\n",
       "      <td>560</td>\n",
       "      <td>548</td>\n",
       "      <td>1108</td>\n",
       "      <td>0.40</td>\n",
       "      <td>21.2</td>\n",
       "      <td>21.5</td>\n",
       "      <td>22.4</td>\n",
       "      <td>21.7</td>\n",
       "      <td>21.8</td>\n",
       "    </tr>\n",
       "    <tr>\n",
       "      <th>1</th>\n",
       "      <td>Alaska</td>\n",
       "      <td>0.38</td>\n",
       "      <td>547</td>\n",
       "      <td>533</td>\n",
       "      <td>1080</td>\n",
       "      <td>0.65</td>\n",
       "      <td>18.7</td>\n",
       "      <td>19.8</td>\n",
       "      <td>20.4</td>\n",
       "      <td>19.9</td>\n",
       "      <td>19.8</td>\n",
       "    </tr>\n",
       "    <tr>\n",
       "      <th>2</th>\n",
       "      <td>Arizona</td>\n",
       "      <td>0.30</td>\n",
       "      <td>563</td>\n",
       "      <td>553</td>\n",
       "      <td>1116</td>\n",
       "      <td>0.62</td>\n",
       "      <td>18.6</td>\n",
       "      <td>19.8</td>\n",
       "      <td>20.1</td>\n",
       "      <td>19.8</td>\n",
       "      <td>19.7</td>\n",
       "    </tr>\n",
       "    <tr>\n",
       "      <th>28</th>\n",
       "      <td>Nevada</td>\n",
       "      <td>0.26</td>\n",
       "      <td>563</td>\n",
       "      <td>553</td>\n",
       "      <td>1116</td>\n",
       "      <td>1.00</td>\n",
       "      <td>16.3</td>\n",
       "      <td>18.0</td>\n",
       "      <td>18.1</td>\n",
       "      <td>18.2</td>\n",
       "      <td>17.8</td>\n",
       "    </tr>\n",
       "    <tr>\n",
       "      <th>48</th>\n",
       "      <td>West Virginia</td>\n",
       "      <td>0.14</td>\n",
       "      <td>558</td>\n",
       "      <td>528</td>\n",
       "      <td>1086</td>\n",
       "      <td>0.69</td>\n",
       "      <td>20.0</td>\n",
       "      <td>19.4</td>\n",
       "      <td>21.2</td>\n",
       "      <td>20.5</td>\n",
       "      <td>20.4</td>\n",
       "    </tr>\n",
       "    <tr>\n",
       "      <th>35</th>\n",
       "      <td>Ohio</td>\n",
       "      <td>0.12</td>\n",
       "      <td>578</td>\n",
       "      <td>570</td>\n",
       "      <td>1149</td>\n",
       "      <td>0.75</td>\n",
       "      <td>21.2</td>\n",
       "      <td>21.6</td>\n",
       "      <td>22.5</td>\n",
       "      <td>22.0</td>\n",
       "      <td>22.0</td>\n",
       "    </tr>\n",
       "    <tr>\n",
       "      <th>5</th>\n",
       "      <td>Colorado</td>\n",
       "      <td>0.11</td>\n",
       "      <td>606</td>\n",
       "      <td>595</td>\n",
       "      <td>1201</td>\n",
       "      <td>1.00</td>\n",
       "      <td>20.1</td>\n",
       "      <td>20.3</td>\n",
       "      <td>21.2</td>\n",
       "      <td>20.9</td>\n",
       "      <td>20.8</td>\n",
       "    </tr>\n",
       "    <tr>\n",
       "      <th>31</th>\n",
       "      <td>New Mexico</td>\n",
       "      <td>0.11</td>\n",
       "      <td>577</td>\n",
       "      <td>561</td>\n",
       "      <td>1138</td>\n",
       "      <td>0.66</td>\n",
       "      <td>18.6</td>\n",
       "      <td>19.4</td>\n",
       "      <td>20.4</td>\n",
       "      <td>20.0</td>\n",
       "      <td>19.7</td>\n",
       "    </tr>\n",
       "    <tr>\n",
       "      <th>26</th>\n",
       "      <td>Montana</td>\n",
       "      <td>0.10</td>\n",
       "      <td>605</td>\n",
       "      <td>591</td>\n",
       "      <td>1196</td>\n",
       "      <td>1.00</td>\n",
       "      <td>19.0</td>\n",
       "      <td>20.2</td>\n",
       "      <td>21.0</td>\n",
       "      <td>20.5</td>\n",
       "      <td>20.3</td>\n",
       "    </tr>\n",
       "    <tr>\n",
       "      <th>13</th>\n",
       "      <td>Illinois</td>\n",
       "      <td>0.09</td>\n",
       "      <td>559</td>\n",
       "      <td>556</td>\n",
       "      <td>1115</td>\n",
       "      <td>0.93</td>\n",
       "      <td>21.0</td>\n",
       "      <td>21.2</td>\n",
       "      <td>21.6</td>\n",
       "      <td>21.3</td>\n",
       "      <td>21.4</td>\n",
       "    </tr>\n",
       "    <tr>\n",
       "      <th>36</th>\n",
       "      <td>Oklahoma</td>\n",
       "      <td>0.07</td>\n",
       "      <td>530</td>\n",
       "      <td>517</td>\n",
       "      <td>1047</td>\n",
       "      <td>1.00</td>\n",
       "      <td>18.5</td>\n",
       "      <td>18.8</td>\n",
       "      <td>20.1</td>\n",
       "      <td>19.6</td>\n",
       "      <td>19.4</td>\n",
       "    </tr>\n",
       "    <tr>\n",
       "      <th>0</th>\n",
       "      <td>Alabama</td>\n",
       "      <td>0.05</td>\n",
       "      <td>593</td>\n",
       "      <td>572</td>\n",
       "      <td>1165</td>\n",
       "      <td>1.00</td>\n",
       "      <td>18.9</td>\n",
       "      <td>18.4</td>\n",
       "      <td>19.7</td>\n",
       "      <td>19.4</td>\n",
       "      <td>19.2</td>\n",
       "    </tr>\n",
       "    <tr>\n",
       "      <th>42</th>\n",
       "      <td>Tennessee</td>\n",
       "      <td>0.05</td>\n",
       "      <td>623</td>\n",
       "      <td>604</td>\n",
       "      <td>1228</td>\n",
       "      <td>1.00</td>\n",
       "      <td>19.5</td>\n",
       "      <td>19.2</td>\n",
       "      <td>20.1</td>\n",
       "      <td>19.9</td>\n",
       "      <td>19.8</td>\n",
       "    </tr>\n",
       "    <tr>\n",
       "      <th>17</th>\n",
       "      <td>Kentucky</td>\n",
       "      <td>0.04</td>\n",
       "      <td>631</td>\n",
       "      <td>616</td>\n",
       "      <td>1247</td>\n",
       "      <td>1.00</td>\n",
       "      <td>19.6</td>\n",
       "      <td>19.4</td>\n",
       "      <td>20.5</td>\n",
       "      <td>20.1</td>\n",
       "      <td>20.0</td>\n",
       "    </tr>\n",
       "    <tr>\n",
       "      <th>16</th>\n",
       "      <td>Kansas</td>\n",
       "      <td>0.04</td>\n",
       "      <td>632</td>\n",
       "      <td>628</td>\n",
       "      <td>1260</td>\n",
       "      <td>0.73</td>\n",
       "      <td>21.1</td>\n",
       "      <td>21.3</td>\n",
       "      <td>22.3</td>\n",
       "      <td>21.7</td>\n",
       "      <td>21.7</td>\n",
       "    </tr>\n",
       "    <tr>\n",
       "      <th>18</th>\n",
       "      <td>Louisiana</td>\n",
       "      <td>0.04</td>\n",
       "      <td>611</td>\n",
       "      <td>586</td>\n",
       "      <td>1198</td>\n",
       "      <td>1.00</td>\n",
       "      <td>19.4</td>\n",
       "      <td>18.8</td>\n",
       "      <td>19.8</td>\n",
       "      <td>19.6</td>\n",
       "      <td>19.5</td>\n",
       "    </tr>\n",
       "    <tr>\n",
       "      <th>44</th>\n",
       "      <td>Utah</td>\n",
       "      <td>0.03</td>\n",
       "      <td>624</td>\n",
       "      <td>614</td>\n",
       "      <td>1238</td>\n",
       "      <td>1.00</td>\n",
       "      <td>19.5</td>\n",
       "      <td>19.9</td>\n",
       "      <td>20.8</td>\n",
       "      <td>20.6</td>\n",
       "      <td>20.3</td>\n",
       "    </tr>\n",
       "    <tr>\n",
       "      <th>49</th>\n",
       "      <td>Wisconsin</td>\n",
       "      <td>0.03</td>\n",
       "      <td>642</td>\n",
       "      <td>649</td>\n",
       "      <td>1291</td>\n",
       "      <td>1.00</td>\n",
       "      <td>19.7</td>\n",
       "      <td>20.4</td>\n",
       "      <td>20.6</td>\n",
       "      <td>20.9</td>\n",
       "      <td>20.5</td>\n",
       "    </tr>\n",
       "    <tr>\n",
       "      <th>25</th>\n",
       "      <td>Missouri</td>\n",
       "      <td>0.03</td>\n",
       "      <td>640</td>\n",
       "      <td>631</td>\n",
       "      <td>1271</td>\n",
       "      <td>1.00</td>\n",
       "      <td>19.8</td>\n",
       "      <td>19.9</td>\n",
       "      <td>20.8</td>\n",
       "      <td>20.5</td>\n",
       "      <td>20.4</td>\n",
       "    </tr>\n",
       "    <tr>\n",
       "      <th>41</th>\n",
       "      <td>South Dakota</td>\n",
       "      <td>0.03</td>\n",
       "      <td>612</td>\n",
       "      <td>603</td>\n",
       "      <td>1216</td>\n",
       "      <td>0.80</td>\n",
       "      <td>20.7</td>\n",
       "      <td>21.5</td>\n",
       "      <td>22.3</td>\n",
       "      <td>22.0</td>\n",
       "      <td>21.8</td>\n",
       "    </tr>\n",
       "    <tr>\n",
       "      <th>27</th>\n",
       "      <td>Nebraska</td>\n",
       "      <td>0.03</td>\n",
       "      <td>629</td>\n",
       "      <td>625</td>\n",
       "      <td>1253</td>\n",
       "      <td>0.84</td>\n",
       "      <td>20.9</td>\n",
       "      <td>20.9</td>\n",
       "      <td>21.9</td>\n",
       "      <td>21.5</td>\n",
       "      <td>21.4</td>\n",
       "    </tr>\n",
       "    <tr>\n",
       "      <th>23</th>\n",
       "      <td>Minnesota</td>\n",
       "      <td>0.03</td>\n",
       "      <td>644</td>\n",
       "      <td>651</td>\n",
       "      <td>1295</td>\n",
       "      <td>1.00</td>\n",
       "      <td>20.4</td>\n",
       "      <td>21.5</td>\n",
       "      <td>21.8</td>\n",
       "      <td>21.6</td>\n",
       "      <td>21.5</td>\n",
       "    </tr>\n",
       "    <tr>\n",
       "      <th>3</th>\n",
       "      <td>Arkansas</td>\n",
       "      <td>0.03</td>\n",
       "      <td>614</td>\n",
       "      <td>594</td>\n",
       "      <td>1208</td>\n",
       "      <td>1.00</td>\n",
       "      <td>18.9</td>\n",
       "      <td>19.0</td>\n",
       "      <td>19.7</td>\n",
       "      <td>19.5</td>\n",
       "      <td>19.4</td>\n",
       "    </tr>\n",
       "    <tr>\n",
       "      <th>50</th>\n",
       "      <td>Wyoming</td>\n",
       "      <td>0.03</td>\n",
       "      <td>626</td>\n",
       "      <td>604</td>\n",
       "      <td>1230</td>\n",
       "      <td>1.00</td>\n",
       "      <td>19.4</td>\n",
       "      <td>19.8</td>\n",
       "      <td>20.8</td>\n",
       "      <td>20.6</td>\n",
       "      <td>20.2</td>\n",
       "    </tr>\n",
       "    <tr>\n",
       "      <th>34</th>\n",
       "      <td>North Dakota</td>\n",
       "      <td>0.02</td>\n",
       "      <td>635</td>\n",
       "      <td>621</td>\n",
       "      <td>1256</td>\n",
       "      <td>0.98</td>\n",
       "      <td>19.0</td>\n",
       "      <td>20.4</td>\n",
       "      <td>20.5</td>\n",
       "      <td>20.6</td>\n",
       "      <td>20.3</td>\n",
       "    </tr>\n",
       "    <tr>\n",
       "      <th>24</th>\n",
       "      <td>Mississippi</td>\n",
       "      <td>0.02</td>\n",
       "      <td>634</td>\n",
       "      <td>607</td>\n",
       "      <td>1242</td>\n",
       "      <td>1.00</td>\n",
       "      <td>18.2</td>\n",
       "      <td>18.1</td>\n",
       "      <td>18.8</td>\n",
       "      <td>18.8</td>\n",
       "      <td>18.6</td>\n",
       "    </tr>\n",
       "  </tbody>\n",
       "</table>\n",
       "</div>"
      ],
      "text/plain": [
       "                   State  Participation_SAT  \\\n",
       "8   District of Columbia               1.00   \n",
       "22              Michigan               1.00   \n",
       "6            Connecticut               1.00   \n",
       "7               Delaware               1.00   \n",
       "29         New Hampshire               0.96   \n",
       "19                 Maine               0.95   \n",
       "12                 Idaho               0.93   \n",
       "9                Florida               0.83   \n",
       "21         Massachusetts               0.76   \n",
       "39          Rhode Island               0.71   \n",
       "30            New Jersey               0.70   \n",
       "20              Maryland               0.69   \n",
       "32              New York               0.67   \n",
       "46              Virginia               0.65   \n",
       "38          Pennsylvania               0.65   \n",
       "47            Washington               0.64   \n",
       "14               Indiana               0.63   \n",
       "43                 Texas               0.62   \n",
       "10               Georgia               0.61   \n",
       "45               Vermont               0.60   \n",
       "11                Hawaii               0.55   \n",
       "4             California               0.53   \n",
       "40        South Carolina               0.50   \n",
       "33        North Carolina               0.49   \n",
       "37                Oregon               0.43   \n",
       "1                 Alaska               0.38   \n",
       "2                Arizona               0.30   \n",
       "28                Nevada               0.26   \n",
       "48         West Virginia               0.14   \n",
       "35                  Ohio               0.12   \n",
       "5               Colorado               0.11   \n",
       "31            New Mexico               0.11   \n",
       "26               Montana               0.10   \n",
       "13              Illinois               0.09   \n",
       "36              Oklahoma               0.07   \n",
       "0                Alabama               0.05   \n",
       "42             Tennessee               0.05   \n",
       "17              Kentucky               0.04   \n",
       "16                Kansas               0.04   \n",
       "18             Louisiana               0.04   \n",
       "44                  Utah               0.03   \n",
       "49             Wisconsin               0.03   \n",
       "25              Missouri               0.03   \n",
       "41          South Dakota               0.03   \n",
       "27              Nebraska               0.03   \n",
       "23             Minnesota               0.03   \n",
       "3               Arkansas               0.03   \n",
       "50               Wyoming               0.03   \n",
       "34          North Dakota               0.02   \n",
       "24           Mississippi               0.02   \n",
       "\n",
       "    Evidence-Based Reading and Writing_SAT  Math_SAT  Total_SAT  \\\n",
       "8                                      482       468        950   \n",
       "22                                     509       495       1005   \n",
       "6                                      530       512       1041   \n",
       "7                                      503       492        996   \n",
       "29                                     532       520       1052   \n",
       "19                                     513       499       1012   \n",
       "12                                     513       493       1005   \n",
       "9                                      520       497       1017   \n",
       "21                                     555       551       1107   \n",
       "39                                     539       524       1062   \n",
       "30                                     530       526       1056   \n",
       "20                                     536        52       1060   \n",
       "32                                     528       523       1052   \n",
       "46                                     561       541       1102   \n",
       "38                                     540       531       1071   \n",
       "47                                     541       534       1075   \n",
       "14                                     542       532       1074   \n",
       "43                                     513       507       1020   \n",
       "10                                     535       515       1050   \n",
       "45                                     562       551       1114   \n",
       "11                                     544       541       1085   \n",
       "4                                      531       524       1055   \n",
       "40                                     543       521       1064   \n",
       "33                                     546       535       1081   \n",
       "37                                     560       548       1108   \n",
       "1                                      547       533       1080   \n",
       "2                                      563       553       1116   \n",
       "28                                     563       553       1116   \n",
       "48                                     558       528       1086   \n",
       "35                                     578       570       1149   \n",
       "5                                      606       595       1201   \n",
       "31                                     577       561       1138   \n",
       "26                                     605       591       1196   \n",
       "13                                     559       556       1115   \n",
       "36                                     530       517       1047   \n",
       "0                                      593       572       1165   \n",
       "42                                     623       604       1228   \n",
       "17                                     631       616       1247   \n",
       "16                                     632       628       1260   \n",
       "18                                     611       586       1198   \n",
       "44                                     624       614       1238   \n",
       "49                                     642       649       1291   \n",
       "25                                     640       631       1271   \n",
       "41                                     612       603       1216   \n",
       "27                                     629       625       1253   \n",
       "23                                     644       651       1295   \n",
       "3                                      614       594       1208   \n",
       "50                                     626       604       1230   \n",
       "34                                     635       621       1256   \n",
       "24                                     634       607       1242   \n",
       "\n",
       "    Participation_ACT  English_ACT  Math_ACT  Reading_ACT  Science_ACT  \\\n",
       "8                0.32         24.4      23.5         24.9         23.5   \n",
       "22               0.29         24.1      23.7         24.5         23.8   \n",
       "6                0.31         25.5      24.6         25.6         24.6   \n",
       "7                0.18         24.1      23.4         24.8         23.6   \n",
       "29               0.18         25.4      25.1         26.0         24.9   \n",
       "19               0.08         24.2      24.0         24.8         23.7   \n",
       "12               0.38         21.9      21.8         23.0         22.1   \n",
       "9                0.73         19.0      19.4         21.0         19.4   \n",
       "21               0.29         25.4      25.3         25.9         24.7   \n",
       "39               0.21         24.0      23.3         24.7         23.4   \n",
       "30               0.34         23.8      23.8         24.1         23.2   \n",
       "20               0.28         23.3      23.1         24.2          2.3   \n",
       "32               0.31         23.8      24.0         24.6         23.9   \n",
       "46               0.29         23.5      23.3         24.6         23.5   \n",
       "38               0.23         23.4      23.4         24.2         23.3   \n",
       "47               0.29         20.9      21.9         22.1         22.0   \n",
       "14               0.35         22.0      22.4         23.2         22.3   \n",
       "43               0.45         19.5      20.7         21.1         20.9   \n",
       "10               0.55         21.0      20.9         22.0         21.3   \n",
       "45               0.29         23.3      23.1         24.4         23.2   \n",
       "11               0.90         17.8      19.2         19.2         19.3   \n",
       "4                0.31         22.5      22.7         23.1         22.2   \n",
       "40               1.00         17.5      18.6         19.1         18.9   \n",
       "33               1.00         17.8      19.3         19.6         19.3   \n",
       "37               0.40         21.2      21.5         22.4         21.7   \n",
       "1                0.65         18.7      19.8         20.4         19.9   \n",
       "2                0.62         18.6      19.8         20.1         19.8   \n",
       "28               1.00         16.3      18.0         18.1         18.2   \n",
       "48               0.69         20.0      19.4         21.2         20.5   \n",
       "35               0.75         21.2      21.6         22.5         22.0   \n",
       "5                1.00         20.1      20.3         21.2         20.9   \n",
       "31               0.66         18.6      19.4         20.4         20.0   \n",
       "26               1.00         19.0      20.2         21.0         20.5   \n",
       "13               0.93         21.0      21.2         21.6         21.3   \n",
       "36               1.00         18.5      18.8         20.1         19.6   \n",
       "0                1.00         18.9      18.4         19.7         19.4   \n",
       "42               1.00         19.5      19.2         20.1         19.9   \n",
       "17               1.00         19.6      19.4         20.5         20.1   \n",
       "16               0.73         21.1      21.3         22.3         21.7   \n",
       "18               1.00         19.4      18.8         19.8         19.6   \n",
       "44               1.00         19.5      19.9         20.8         20.6   \n",
       "49               1.00         19.7      20.4         20.6         20.9   \n",
       "25               1.00         19.8      19.9         20.8         20.5   \n",
       "41               0.80         20.7      21.5         22.3         22.0   \n",
       "27               0.84         20.9      20.9         21.9         21.5   \n",
       "23               1.00         20.4      21.5         21.8         21.6   \n",
       "3                1.00         18.9      19.0         19.7         19.5   \n",
       "50               1.00         19.4      19.8         20.8         20.6   \n",
       "34               0.98         19.0      20.4         20.5         20.6   \n",
       "24               1.00         18.2      18.1         18.8         18.8   \n",
       "\n",
       "    Composite_ACT  \n",
       "8            24.2  \n",
       "22           24.1  \n",
       "6            25.2  \n",
       "7            24.1  \n",
       "29           25.5  \n",
       "19           24.3  \n",
       "12           22.3  \n",
       "9            19.8  \n",
       "21           25.4  \n",
       "39           24.0  \n",
       "30           23.9  \n",
       "20           23.6  \n",
       "32           24.2  \n",
       "46           23.8  \n",
       "38           23.7  \n",
       "47           21.9  \n",
       "14           22.6  \n",
       "43           20.7  \n",
       "10           21.4  \n",
       "45           23.6  \n",
       "11           19.0  \n",
       "4            22.8  \n",
       "40           18.7  \n",
       "33           19.1  \n",
       "37           21.8  \n",
       "1            19.8  \n",
       "2            19.7  \n",
       "28           17.8  \n",
       "48           20.4  \n",
       "35           22.0  \n",
       "5            20.8  \n",
       "31           19.7  \n",
       "26           20.3  \n",
       "13           21.4  \n",
       "36           19.4  \n",
       "0            19.2  \n",
       "42           19.8  \n",
       "17           20.0  \n",
       "16           21.7  \n",
       "18           19.5  \n",
       "44           20.3  \n",
       "49           20.5  \n",
       "25           20.4  \n",
       "41           21.8  \n",
       "27           21.4  \n",
       "23           21.5  \n",
       "3            19.4  \n",
       "50           20.2  \n",
       "34           20.3  \n",
       "24           18.6  "
      ]
     },
     "execution_count": 18,
     "metadata": {},
     "output_type": "execute_result"
    }
   ],
   "source": [
    "SAT_ACT.sort_values(by=['Participation_SAT'], ascending=False)[0:50] ##the 0:50 bracket is done to avoid including the standard deviation row"
   ]
  },
  {
   "cell_type": "markdown",
   "metadata": {},
   "source": [
    "##### 15. Use a boolean filter to display only observations with a score above a certain threshold (e.g. only states with a participation rate above 50%)"
   ]
  },
  {
   "cell_type": "code",
   "execution_count": 19,
   "metadata": {
    "scrolled": true
   },
   "outputs": [
    {
     "data": {
      "text/html": [
       "<div>\n",
       "<style>\n",
       "    .dataframe thead tr:only-child th {\n",
       "        text-align: right;\n",
       "    }\n",
       "\n",
       "    .dataframe thead th {\n",
       "        text-align: left;\n",
       "    }\n",
       "\n",
       "    .dataframe tbody tr th {\n",
       "        vertical-align: top;\n",
       "    }\n",
       "</style>\n",
       "<table border=\"1\" class=\"dataframe\">\n",
       "  <thead>\n",
       "    <tr style=\"text-align: right;\">\n",
       "      <th></th>\n",
       "      <th>State</th>\n",
       "      <th>Participation_SAT</th>\n",
       "      <th>Evidence-Based Reading and Writing_SAT</th>\n",
       "      <th>Math_SAT</th>\n",
       "      <th>Total_SAT</th>\n",
       "      <th>Participation_ACT</th>\n",
       "      <th>English_ACT</th>\n",
       "      <th>Math_ACT</th>\n",
       "      <th>Reading_ACT</th>\n",
       "      <th>Science_ACT</th>\n",
       "      <th>Composite_ACT</th>\n",
       "    </tr>\n",
       "  </thead>\n",
       "  <tbody>\n",
       "    <tr>\n",
       "      <th>21</th>\n",
       "      <td>Massachusetts</td>\n",
       "      <td>0.76</td>\n",
       "      <td>555</td>\n",
       "      <td>551</td>\n",
       "      <td>1107</td>\n",
       "      <td>0.29</td>\n",
       "      <td>25.4</td>\n",
       "      <td>25.3</td>\n",
       "      <td>25.9</td>\n",
       "      <td>24.7</td>\n",
       "      <td>25.4</td>\n",
       "    </tr>\n",
       "    <tr>\n",
       "      <th>45</th>\n",
       "      <td>Vermont</td>\n",
       "      <td>0.60</td>\n",
       "      <td>562</td>\n",
       "      <td>551</td>\n",
       "      <td>1114</td>\n",
       "      <td>0.29</td>\n",
       "      <td>23.3</td>\n",
       "      <td>23.1</td>\n",
       "      <td>24.4</td>\n",
       "      <td>23.2</td>\n",
       "      <td>23.6</td>\n",
       "    </tr>\n",
       "    <tr>\n",
       "      <th>46</th>\n",
       "      <td>Virginia</td>\n",
       "      <td>0.65</td>\n",
       "      <td>561</td>\n",
       "      <td>541</td>\n",
       "      <td>1102</td>\n",
       "      <td>0.29</td>\n",
       "      <td>23.5</td>\n",
       "      <td>23.3</td>\n",
       "      <td>24.6</td>\n",
       "      <td>23.5</td>\n",
       "      <td>23.8</td>\n",
       "    </tr>\n",
       "  </tbody>\n",
       "</table>\n",
       "</div>"
      ],
      "text/plain": [
       "            State  Participation_SAT  Evidence-Based Reading and Writing_SAT  \\\n",
       "21  Massachusetts               0.76                                     555   \n",
       "45        Vermont               0.60                                     562   \n",
       "46       Virginia               0.65                                     561   \n",
       "\n",
       "    Math_SAT  Total_SAT  Participation_ACT  English_ACT  Math_ACT  \\\n",
       "21       551       1107               0.29         25.4      25.3   \n",
       "45       551       1114               0.29         23.3      23.1   \n",
       "46       541       1102               0.29         23.5      23.3   \n",
       "\n",
       "    Reading_ACT  Science_ACT  Composite_ACT  \n",
       "21         25.9         24.7           25.4  \n",
       "45         24.4         23.2           23.6  \n",
       "46         24.6         23.5           23.8  "
      ]
     },
     "execution_count": 19,
     "metadata": {},
     "output_type": "execute_result"
    }
   ],
   "source": [
    "Participation_Total = SAT_ACT[(SAT_ACT['Participation_SAT'] > 0.50) & (SAT_ACT['Total_SAT'] > 1100)][0:50]\n",
    "Participation_Total "
   ]
  },
  {
   "cell_type": "markdown",
   "metadata": {},
   "source": [
    "## Step 3: Visualize the data"
   ]
  },
  {
   "cell_type": "markdown",
   "metadata": {},
   "source": [
    "##### 16. Using MatPlotLib and PyPlot, plot the distribution of the Rate columns for both SAT and ACT using histograms. (You should have two histograms. You might find [this link](https://matplotlib.org/users/pyplot_tutorial.html#working-with-multiple-figures-and-axes) helpful in organizing one plot above the other.) "
   ]
  },
  {
   "cell_type": "code",
   "execution_count": 20,
   "metadata": {},
   "outputs": [
    {
     "data": {
      "text/plain": [
       "0.40500000000000003"
      ]
     },
     "execution_count": 20,
     "metadata": {},
     "output_type": "execute_result"
    }
   ],
   "source": [
    "np.median(SAT_ACT['Participation_SAT'][0:50]) ##I calculated the median and mean for each distribution to get\n",
    "#an idea of what the distribution's shape such as left or right skewedd"
   ]
  },
  {
   "cell_type": "code",
   "execution_count": 21,
   "metadata": {},
   "outputs": [
    {
     "data": {
      "text/plain": [
       "0.4054"
      ]
     },
     "execution_count": 21,
     "metadata": {},
     "output_type": "execute_result"
    }
   ],
   "source": [
    "SAT_ACT.Participation_SAT.iloc[0:50].mean()"
   ]
  },
  {
   "cell_type": "markdown",
   "metadata": {},
   "source": [
    "Standard deviation = 0.350 (taken from sd from Question 12)"
   ]
  },
  {
   "cell_type": "code",
   "execution_count": 22,
   "metadata": {},
   "outputs": [
    {
     "data": {
      "text/plain": [
       "<function matplotlib.pyplot.show>"
      ]
     },
     "execution_count": 22,
     "metadata": {},
     "output_type": "execute_result"
    },
    {
     "data": {
      "image/png": "[encoded data removed]",
      "text/plain": [
       "<matplotlib.figure.Figure at 0x110797da0>"
      ]
     },
     "metadata": {
      "image/png": {
       "height": 634,
       "width": 1201
      }
     },
     "output_type": "display_data"
    }
   ],
   "source": [
    "SAT_ACT.hist(column='Participation_SAT', xlabelsize=30, ylabelsize=30, figsize=(20,10), bins=20)[0:50]\n",
    "plt.xlabel('SAT Participation Rate', fontsize=20)\n",
    "plt.ylabel('Number of States', fontsize=20)\n",
    "plt.title('SAT Participation Across the 50 U.S. States')\n",
    "plt.show"
   ]
  },
  {
   "cell_type": "code",
   "execution_count": 23,
   "metadata": {},
   "outputs": [
    {
     "data": {
      "text/plain": [
       "0.67999999999999994"
      ]
     },
     "execution_count": 23,
     "metadata": {},
     "output_type": "execute_result"
    }
   ],
   "source": [
    "np.median(SAT_ACT['Participation_ACT'][0:50])"
   ]
  },
  {
   "cell_type": "code",
   "execution_count": 24,
   "metadata": {},
   "outputs": [
    {
     "data": {
      "text/plain": [
       "0.6455999999999998"
      ]
     },
     "execution_count": 24,
     "metadata": {},
     "output_type": "execute_result"
    }
   ],
   "source": [
    "SAT_ACT.Participation_ACT.iloc[0:50].mean()"
   ]
  },
  {
   "cell_type": "markdown",
   "metadata": {},
   "source": [
    "Standard deviation = 0.318 (taken from sd from Question 12)"
   ]
  },
  {
   "cell_type": "code",
   "execution_count": 25,
   "metadata": {},
   "outputs": [
    {
     "data": {
      "text/plain": [
       "<function matplotlib.pyplot.show>"
      ]
     },
     "execution_count": 25,
     "metadata": {},
     "output_type": "execute_result"
    },
    {
     "data": {
      "image/png": "[encoded data removed]",
      "text/plain": [
       "<matplotlib.figure.Figure at 0x115854c50>"
      ]
     },
     "metadata": {
      "image/png": {
       "height": 634,
       "width": 1230
      }
     },
     "output_type": "display_data"
    }
   ],
   "source": [
    "SAT_ACT.hist(column='Participation_ACT',xlabelsize=30, ylabelsize=30, figsize=(20,10), bins=20)[0:50]\n",
    "plt.xlabel('ACT Participation Rate', fontsize=20)\n",
    "plt.ylabel('Number of States', fontsize=20)\n",
    "plt.title('ACT Participation Rate Across the 50 States')\n",
    "plt.show"
   ]
  },
  {
   "cell_type": "markdown",
   "metadata": {},
   "source": [
    "##### 17. Plot the Math(s) distributions from both data sets."
   ]
  },
  {
   "cell_type": "code",
   "execution_count": 26,
   "metadata": {},
   "outputs": [
    {
     "data": {
      "text/plain": [
       "544.5"
      ]
     },
     "execution_count": 26,
     "metadata": {},
     "output_type": "execute_result"
    }
   ],
   "source": [
    "np.median(SAT_ACT['Math_SAT'][0:50])"
   ]
  },
  {
   "cell_type": "code",
   "execution_count": 27,
   "metadata": {},
   "outputs": [
    {
     "data": {
      "text/plain": [
       "546.5"
      ]
     },
     "execution_count": 27,
     "metadata": {},
     "output_type": "execute_result"
    }
   ],
   "source": [
    "SAT_ACT.Math_SAT.iloc[0:50].mean()"
   ]
  },
  {
   "cell_type": "markdown",
   "metadata": {},
   "source": [
    "Standard deviation = 84.073 (taken from sd from Question 12)"
   ]
  },
  {
   "cell_type": "code",
   "execution_count": 29,
   "metadata": {},
   "outputs": [
    {
     "data": {
      "text/plain": [
       "Text(0.5,1,'SAT Math Scores Across the 50 States')"
      ]
     },
     "execution_count": 29,
     "metadata": {},
     "output_type": "execute_result"
    },
    {
     "data": {
      "image/png": "[encoded data removed]",
      "text/plain": [
       "<matplotlib.figure.Figure at 0x1174cfcf8>"
      ]
     },
     "metadata": {
      "image/png": {
       "height": 634,
       "width": 1182
      }
     },
     "output_type": "display_data"
    }
   ],
   "source": [
    "SAT_ACT.hist(column='Math_SAT', xlabelsize=30, ylabelsize=30, figsize=(20,10), bins=50)[0:50]\n",
    "plt.xlabel('SAT Math Scores', fontsize=20)\n",
    "plt.ylabel('Number of States', fontsize=20)\n",
    "plt.title('SAT Math Scores Across the 50 States')"
   ]
  },
  {
   "cell_type": "code",
   "execution_count": 33,
   "metadata": {},
   "outputs": [
    {
     "data": {
      "text/plain": [
       "21.049999999999997"
      ]
     },
     "execution_count": 33,
     "metadata": {},
     "output_type": "execute_result"
    }
   ],
   "source": [
    "np.median(SAT_ACT['Math_ACT'][0:50])"
   ]
  },
  {
   "cell_type": "code",
   "execution_count": 34,
   "metadata": {},
   "outputs": [
    {
     "data": {
      "text/plain": [
       "21.21"
      ]
     },
     "execution_count": 34,
     "metadata": {},
     "output_type": "execute_result"
    }
   ],
   "source": [
    "SAT_ACT.Math_ACT.iloc[0:50].mean()"
   ]
  },
  {
   "cell_type": "markdown",
   "metadata": {},
   "source": [
    "Standard Deviation = 1.96 (taken from sd from Question 12)"
   ]
  },
  {
   "cell_type": "code",
   "execution_count": 35,
   "metadata": {},
   "outputs": [
    {
     "data": {
      "text/plain": [
       "Text(0.5,1,'ACT Math Scores Across the 50 States')"
      ]
     },
     "execution_count": 35,
     "metadata": {},
     "output_type": "execute_result"
    },
    {
     "data": {
      "image/png": "[encoded data removed]",
      "text/plain": [
       "<matplotlib.figure.Figure at 0x1174ce860>"
      ]
     },
     "metadata": {
      "image/png": {
       "height": 634,
       "width": 1201
      }
     },
     "output_type": "display_data"
    }
   ],
   "source": [
    "SAT_ACT.hist(column='Math_ACT', xlabelsize=30, ylabelsize=30, figsize=(20,10), bins=10)[0:50]\n",
    "plt.xlabel('ACT Math Scores', fontsize=20)\n",
    "plt.ylabel('Number of States', fontsize=20)\n",
    "plt.title('ACT Math Scores Across the 50 States')"
   ]
  },
  {
   "cell_type": "markdown",
   "metadata": {},
   "source": [
    "##### 18. Plot the Verbal distributions from both data sets."
   ]
  },
  {
   "cell_type": "code",
   "execution_count": 36,
   "metadata": {},
   "outputs": [
    {
     "data": {
      "text/plain": [
       "558.5"
      ]
     },
     "execution_count": 36,
     "metadata": {},
     "output_type": "execute_result"
    }
   ],
   "source": [
    "np.median(SAT_ACT['Evidence-Based Reading and Writing_SAT'][0:50])"
   ]
  },
  {
   "cell_type": "code",
   "execution_count": 37,
   "metadata": {},
   "outputs": [
    {
     "data": {
      "text/plain": [
       "567.98"
      ]
     },
     "execution_count": 37,
     "metadata": {},
     "output_type": "execute_result"
    }
   ],
   "source": [
    "np.mean(SAT_ACT['Evidence-Based Reading and Writing_SAT'][0:50])"
   ]
  },
  {
   "cell_type": "markdown",
   "metadata": {},
   "source": [
    "Standard deviation = 45.217 (taken from sd from Question 12)"
   ]
  },
  {
   "cell_type": "code",
   "execution_count": 38,
   "metadata": {},
   "outputs": [
    {
     "data": {
      "text/plain": [
       "<function matplotlib.pyplot.show>"
      ]
     },
     "execution_count": 38,
     "metadata": {},
     "output_type": "execute_result"
    },
    {
     "data": {
      "image/png": "[encoded data removed]",
      "text/plain": [
       "<matplotlib.figure.Figure at 0x1175cbc18>"
      ]
     },
     "metadata": {
      "image/png": {
       "height": 634,
       "width": 1182
      }
     },
     "output_type": "display_data"
    }
   ],
   "source": [
    "SAT_ACT.hist(column='Evidence-Based Reading and Writing_SAT', xlabelsize=30, ylabelsize=30, figsize=(20,10), bins=20)[0:50]\n",
    "plt.xlabel('SAT Verbal Scores', fontsize=20)\n",
    "plt.ylabel('Number of States', fontsize=20)\n",
    "plt.title('SAT Verbal Scores Across the 50 States')\n",
    "plt.show"
   ]
  },
  {
   "cell_type": "code",
   "execution_count": 39,
   "metadata": {},
   "outputs": [
    {
     "data": {
      "text/plain": [
       "21.850000000000001"
      ]
     },
     "execution_count": 39,
     "metadata": {},
     "output_type": "execute_result"
    }
   ],
   "source": [
    "np.median(SAT_ACT['Reading_ACT'][0:50])"
   ]
  },
  {
   "cell_type": "code",
   "execution_count": 40,
   "metadata": {},
   "outputs": [
    {
     "data": {
      "text/plain": [
       "22.037999999999997"
      ]
     },
     "execution_count": 40,
     "metadata": {},
     "output_type": "execute_result"
    }
   ],
   "source": [
    "np.mean(SAT_ACT['Reading_ACT'][0:50])"
   ]
  },
  {
   "cell_type": "markdown",
   "metadata": {},
   "source": [
    "Standard deviation = 2.05 (taken from sd from Question 12)"
   ]
  },
  {
   "cell_type": "code",
   "execution_count": 41,
   "metadata": {},
   "outputs": [
    {
     "data": {
      "text/plain": [
       "<function matplotlib.pyplot.show>"
      ]
     },
     "execution_count": 41,
     "metadata": {},
     "output_type": "execute_result"
    },
    {
     "data": {
      "image/png": "[encoded data removed]",
      "text/plain": [
       "<matplotlib.figure.Figure at 0x1107ca438>"
      ]
     },
     "metadata": {
      "image/png": {
       "height": 634,
       "width": 1182
      }
     },
     "output_type": "display_data"
    }
   ],
   "source": [
    "SAT_ACT.hist(column='Reading_ACT', xlabelsize=30, ylabelsize=30, figsize=(20,10), bins=20)\n",
    "plt.xlabel('ACT Verbal Scores', fontsize=20)\n",
    "plt.ylabel('Number of States', fontsize=20)\n",
    "plt.title('ACT Verbal Reading Scores Across the 50 States')\n",
    "plt.show"
   ]
  },
  {
   "cell_type": "markdown",
   "metadata": {},
   "source": [
    "##### 19. When we make assumptions about how data are distributed, what is the most common assumption?"
   ]
  },
  {
   "cell_type": "markdown",
   "metadata": {},
   "source": [
    "The most common assumption is that we assume is that the distribution is normally distributed, even though the original variables are not normally distributed."
   ]
  },
  {
   "cell_type": "markdown",
   "metadata": {},
   "source": [
    "##### 20. Does this assumption hold true for any of our columns? Which?"
   ]
  },
  {
   "cell_type": "markdown",
   "metadata": {},
   "source": [
    "The assumption can be held true for any of them because their sample sizes are above 30 according to the Central Limit Theorem. "
   ]
  },
  {
   "cell_type": "markdown",
   "metadata": {},
   "source": [
    "##### 21. Plot some scatterplots examining relationships between all variables."
   ]
  },
  {
   "cell_type": "code",
   "execution_count": 42,
   "metadata": {},
   "outputs": [
    {
     "data": {
      "text/plain": [
       "array([[ 1.        , -0.84123446],\n",
       "       [-0.84123446,  1.        ]])"
      ]
     },
     "execution_count": 42,
     "metadata": {},
     "output_type": "execute_result"
    }
   ],
   "source": [
    "np.corrcoef(SAT_ACT['Participation_SAT'],SAT_ACT['Participation_ACT']) ##wanted to calculate the correlation\n",
    "##coefficient in order to see the strength of the relationship"
   ]
  },
  {
   "cell_type": "code",
   "execution_count": 43,
   "metadata": {
    "scrolled": true
   },
   "outputs": [
    {
     "data": {
      "text/plain": [
       "Text(0.5,1,'ACT Participation Rate vs. SAT Participation Rate')"
      ]
     },
     "execution_count": 43,
     "metadata": {},
     "output_type": "execute_result"
    },
    {
     "data": {
      "image/png": "[encoded data removed]",
      "text/plain": [
       "<matplotlib.figure.Figure at 0x1175b0668>"
      ]
     },
     "metadata": {
      "image/png": {
       "height": 287,
       "width": 397
      }
     },
     "output_type": "display_data"
    }
   ],
   "source": [
    "SAT_ACT.plot.scatter('Participation_SAT', 'Participation_ACT')\n",
    "plt.xlabel('ACT Participation Rate', fontsize=20)\n",
    "plt.ylabel('SAT Participation Rate', fontsize=20)\n",
    "plt.title('ACT Participation Rate vs. SAT Participation Rate')"
   ]
  },
  {
   "cell_type": "code",
   "execution_count": 44,
   "metadata": {},
   "outputs": [
    {
     "data": {
      "text/plain": [
       "array([[ 1.        , -0.44502019],\n",
       "       [-0.44502019,  1.        ]])"
      ]
     },
     "execution_count": 44,
     "metadata": {},
     "output_type": "execute_result"
    }
   ],
   "source": [
    "np.corrcoef(SAT_ACT['Total_SAT'],SAT_ACT['Composite_ACT'])"
   ]
  },
  {
   "cell_type": "code",
   "execution_count": 45,
   "metadata": {},
   "outputs": [
    {
     "data": {
      "text/plain": [
       "Text(0.5,1,'ACT Composite Scores vs. SAT Total Scores')"
      ]
     },
     "execution_count": 45,
     "metadata": {},
     "output_type": "execute_result"
    },
    {
     "data": {
      "image/png": "[encoded data removed]",
      "text/plain": [
       "<matplotlib.figure.Figure at 0x11686cd30>"
      ]
     },
     "metadata": {
      "image/png": {
       "height": 287,
       "width": 395
      }
     },
     "output_type": "display_data"
    }
   ],
   "source": [
    "SAT_ACT.plot.scatter('Total_SAT', 'Composite_ACT')\n",
    "plt.xlabel('Total SAT Score', fontsize=20)\n",
    "plt.ylabel('Composite ACT Score', fontsize=20)\n",
    "plt.title('ACT Composite Scores vs. SAT Total Scores')"
   ]
  },
  {
   "cell_type": "code",
   "execution_count": 46,
   "metadata": {},
   "outputs": [
    {
     "data": {
      "text/plain": [
       "array([[ 1.        , -0.86753981],\n",
       "       [-0.86753981,  1.        ]])"
      ]
     },
     "execution_count": 46,
     "metadata": {},
     "output_type": "execute_result"
    }
   ],
   "source": [
    "np.corrcoef(SAT_ACT['Participation_SAT'],SAT_ACT['Total_SAT'])"
   ]
  },
  {
   "cell_type": "code",
   "execution_count": 47,
   "metadata": {},
   "outputs": [
    {
     "data": {
      "text/plain": [
       "Text(0.5,1,'SAT Participation vs. SAT Scores')"
      ]
     },
     "execution_count": 47,
     "metadata": {},
     "output_type": "execute_result"
    },
    {
     "data": {
      "image/png": "[encoded data removed]",
      "text/plain": [
       "<matplotlib.figure.Figure at 0x117624d68>"
      ]
     },
     "metadata": {
      "image/png": {
       "height": 287,
       "width": 407
      }
     },
     "output_type": "display_data"
    }
   ],
   "source": [
    "SAT_ACT.plot.scatter('Participation_SAT', 'Total_SAT')\n",
    "plt.xlabel('SAT Participation', fontsize=20)\n",
    "plt.ylabel('Total ACT Score', fontsize=20)\n",
    "plt.title('SAT Participation vs. SAT Scores')"
   ]
  },
  {
   "cell_type": "code",
   "execution_count": 48,
   "metadata": {},
   "outputs": [
    {
     "data": {
      "text/plain": [
       "array([[ 1.        , -0.85813416],\n",
       "       [-0.85813416,  1.        ]])"
      ]
     },
     "execution_count": 48,
     "metadata": {},
     "output_type": "execute_result"
    }
   ],
   "source": [
    "np.corrcoef(SAT_ACT['Participation_ACT'],SAT_ACT['Composite_ACT'])"
   ]
  },
  {
   "cell_type": "code",
   "execution_count": 49,
   "metadata": {},
   "outputs": [
    {
     "data": {
      "text/plain": [
       "Text(0.5,1,'ACT Participation vs. ACT Composite Scores')"
      ]
     },
     "execution_count": 49,
     "metadata": {},
     "output_type": "execute_result"
    },
    {
     "data": {
      "image/png": "[encoded data removed]",
      "text/plain": [
       "<matplotlib.figure.Figure at 0x1a1f278b00>"
      ]
     },
     "metadata": {
      "image/png": {
       "height": 287,
       "width": 394
      }
     },
     "output_type": "display_data"
    }
   ],
   "source": [
    "SAT_ACT.plot.scatter('Participation_ACT', 'Composite_ACT')\n",
    "plt.xlabel('ACT Participation', fontsize=20)\n",
    "plt.ylabel('ACT Composite Score', fontsize=20)\n",
    "plt.title('ACT Participation vs. ACT Composite Scores')"
   ]
  },
  {
   "cell_type": "markdown",
   "metadata": {},
   "source": [
    "##### 22. Are there any interesting relationships to note?"
   ]
  },
  {
   "cell_type": "markdown",
   "metadata": {},
   "source": [
    "There is negative correlation between the relationship between the Total SAT score and SAT Participation and between the Composite ACT score and the ACT Participation. Also, the relationship between the composite ACT scores and the total SAT scores is a slighly negative correlation. It is not surprising that it is a weak relationship because you're comparing a total score and an average score. Since the two tests differ not just on scoring and on sections of the test, comparing an average score for both tests would probably make the correlation stronger and more reliable to use for analysis. "
   ]
  },
  {
   "cell_type": "markdown",
   "metadata": {},
   "source": [
    "##### 23. Create box plots for each variable. "
   ]
  },
  {
   "cell_type": "code",
   "execution_count": 50,
   "metadata": {},
   "outputs": [
    {
     "data": {
      "text/plain": [
       "<function matplotlib.pyplot.show>"
      ]
     },
     "execution_count": 50,
     "metadata": {},
     "output_type": "execute_result"
    },
    {
     "data": {
      "image/png": "[encoded data removed]",
      "text/plain": [
       "<matplotlib.figure.Figure at 0x1175d6358>"
      ]
     },
     "metadata": {
      "image/png": {
       "height": 277,
       "width": 364
      }
     },
     "output_type": "display_data"
    }
   ],
   "source": [
    "plt.boxplot(SAT_ACT['Total_SAT'][0:50],vert=False, whis=10.0, autorange=True)\n",
    "plt.xlabel('Total SAT Scores')\n",
    "plt.title('Total SAT Scores Boxplot')\n",
    "plt.show"
   ]
  },
  {
   "cell_type": "code",
   "execution_count": 51,
   "metadata": {
    "scrolled": true
   },
   "outputs": [
    {
     "data": {
      "text/plain": [
       "<function matplotlib.pyplot.show>"
      ]
     },
     "execution_count": 51,
     "metadata": {},
     "output_type": "execute_result"
    },
    {
     "data": {
      "image/png": "[encoded data removed]",
      "text/plain": [
       "<matplotlib.figure.Figure at 0x1a1f6b4c18>"
      ]
     },
     "metadata": {
      "image/png": {
       "height": 277,
       "width": 364
      }
     },
     "output_type": "display_data"
    }
   ],
   "source": [
    "plt.boxplot(SAT_ACT['Composite_ACT'][0:50], vert=False, whis=10.0, autorange=True)\n",
    "plt.xlabel('Composite ACT Scores')\n",
    "plt.title('Composite ACT Scores Boxplot')\n",
    "plt.show"
   ]
  },
  {
   "cell_type": "code",
   "execution_count": 52,
   "metadata": {},
   "outputs": [
    {
     "data": {
      "text/plain": [
       "<function matplotlib.pyplot.show>"
      ]
     },
     "execution_count": 52,
     "metadata": {},
     "output_type": "execute_result"
    },
    {
     "data": {
      "image/png": "[encoded data removed]",
      "text/plain": [
       "<matplotlib.figure.Figure at 0x1a1f8d9ac8>"
      ]
     },
     "metadata": {
      "image/png": {
       "height": 277,
       "width": 364
      }
     },
     "output_type": "display_data"
    }
   ],
   "source": [
    "plt.boxplot(SAT_ACT['Participation_SAT'][0:50], vert=False, whis=10.0, autorange=True)\n",
    "plt.xlabel('SAT Participation Rate')\n",
    "plt.title('SAT Participation Boxplot')\n",
    "plt.show"
   ]
  },
  {
   "cell_type": "code",
   "execution_count": 53,
   "metadata": {},
   "outputs": [
    {
     "data": {
      "text/plain": [
       "<function matplotlib.pyplot.show>"
      ]
     },
     "execution_count": 53,
     "metadata": {},
     "output_type": "execute_result"
    },
    {
     "data": {
      "image/png": "[encoded data removed]",
      "text/plain": [
       "<matplotlib.figure.Figure at 0x1a1fa9f7b8>"
      ]
     },
     "metadata": {
      "image/png": {
       "height": 277,
       "width": 364
      }
     },
     "output_type": "display_data"
    }
   ],
   "source": [
    "plt.boxplot(SAT_ACT['Participation_ACT'][0:50],vert=False, whis=10.0, autorange=True)\n",
    "plt.xlabel('ACT Participation Rate')\n",
    "plt.title('ACT Participation Boxplot')\n",
    "plt.show"
   ]
  },
  {
   "cell_type": "markdown",
   "metadata": {},
   "source": [
    "##### BONUS: Using Tableau, create a heat map for each variable using a map of the US. "
   ]
  },
  {
   "cell_type": "code",
   "execution_count": null,
   "metadata": {
    "collapsed": true
   },
   "outputs": [],
   "source": []
  },
  {
   "cell_type": "markdown",
   "metadata": {},
   "source": [
    "## Step 4: Descriptive and Inferential Statistics"
   ]
  },
  {
   "cell_type": "markdown",
   "metadata": {},
   "source": [
    "##### 24. Summarize each distribution. As data scientists, be sure to back up these summaries with statistics. (Hint: What are the three things we care about when describing distributions?)"
   ]
  },
  {
   "cell_type": "markdown",
   "metadata": {},
   "source": [
    "For the SAT Participation distribution, the median and mean are very similar with a value of 0.405. This should mean the distribution is normally distributed. The histogram for SAT population shows otherwise. It shows a skewed distribution to the right with more values on the lower end. The abundance of lower participation rates reveal that they don't contribute much to the mean of the distribution. The standard deviation of the distribution is 0.35. Considering participation is measured between 0 and 1, the spread of the distribution is quite large. Also it shows that more values are further from the mean. \n",
    "\n",
    "For the ACT Participation distribution, the median and mean are relatively similar at 0.680 and 0.646 respectively. Based on the fact that median is greater than the mean, it should indicate a slghtly left skewed distribution. This is supported by the histogram for ACT Participation. For the spread of the SAT Participation distribution, the same can be applied for the ACT Participation distribution with a large standard deviation. It also shows that more values are further from the mean.\n",
    "\n",
    "For the SAT Math Score distribution, the mean and median are relatively similar at 546.5 and 544.5 respectively. Based on the fact they are relatively similar, the distribution should be normally distributed. The histogram shows more of a left skewed distribution. It seems that way because of the outlier of a score of 49. If that outlier was removed from this series, the distribution would look normal. The standard deviation shows that more values are closer to the mean. \n",
    "\n",
    "For the ACT Math Score distribution, the mean is 21.050 and the median is 21.21. This should show that the distribution is normally distributed because the two values are almost identical. The historgram may not seem to show that it is normally distributed, so we need to look at standard deviation. It is 1.96 for this distribution. That should indicate that more values are closer than the mean.\n",
    "\n",
    "For the SAT Verbal Score distribution, the mean is 558.5 and the median is 567.98. The median is larger than the mean, which reveals that this distribution should show a slightly left skewed distribution. The histogram roughly reveals a slightly left skewed distribution, or even a normal distribution as the mean and median aren't far off from each other. The standard deviation is 45.217. This shows more values are closer to the mean and a more tightly packed distribution. \n",
    "\n",
    "For the ACT Verbal Score distribution, the median is 21.850 and the mean is 22.038. With the mean and median being pretty similar, the distribution should be normally distributed. The histogram should roughly support that conclusion. The spread of the distribution, according to a standard deviation value of 2.05, should reveal a more tightly packed distribution and that more values are close to the mean. "
   ]
  },
  {
   "cell_type": "markdown",
   "metadata": {},
   "source": [
    "##### 25. Summarize each relationship. Be sure to back up these summaries with statistics."
   ]
  },
  {
   "cell_type": "markdown",
   "metadata": {},
   "source": [
    "The relationship between the participation rate of the SAT and the ACT test show a strong negative correlation. This is supported by a calculated correlation coeffficient of -.841. As SAT participation goes up, ACT participation goes down and vice versa. This obviously does not imply causation. It could just be a matter of coincience or even by chance. \n",
    "\n",
    "The relationship between the Total SAT Scores and the Composite ACT scores show a weak negative correlation. This is supported by a calculated correlation coefficient of -0.445. This relationship could be a bit stronger if they were both averages instead of one being a total and the other being an average. \n",
    "\n",
    "The relationship between the participation rate of the SAT test and the total SAT score shows a strong negative correlation. This is supported by a calculated correlation coefficient of -.868. This is strange as it shows that as participation rate increases, the total SAT score decreases. It could be a matter of coincidence or by chance. More granular data could shed more light on this. \n",
    "\n",
    "The relationship between the participation rate of the ACT test and the composite ACT score shows a weak negative correlation. This is supported by a calculated correlated cofficient of -.488.  Unlike for the relationship between the SAT score and participation, this shows that the relationship is relatively weak. "
   ]
  },
  {
   "cell_type": "markdown",
   "metadata": {},
   "source": [
    "##### 26. Execute a hypothesis test comparing the SAT and ACT participation rates. Use $\\alpha = 0.05$. Be sure to interpret your results."
   ]
  },
  {
   "cell_type": "code",
   "execution_count": 54,
   "metadata": {},
   "outputs": [
    {
     "data": {
      "text/plain": [
       "0.39803921568627454"
      ]
     },
     "execution_count": 54,
     "metadata": {},
     "output_type": "execute_result"
    }
   ],
   "source": [
    "SAT_pat_mean = np.mean(SAT_ACT['Participation_SAT'])\n",
    "ACT_pat_mean = np.mean(SAT_ACT['Participation_ACT'])\n",
    "SAT_pat_mean"
   ]
  },
  {
   "cell_type": "code",
   "execution_count": 55,
   "metadata": {},
   "outputs": [
    {
     "data": {
      "text/plain": [
       "0.6525490196078431"
      ]
     },
     "execution_count": 55,
     "metadata": {},
     "output_type": "execute_result"
    }
   ],
   "source": [
    "ACT_pat_mean"
   ]
  },
  {
   "cell_type": "code",
   "execution_count": 56,
   "metadata": {
    "collapsed": true
   },
   "outputs": [],
   "source": [
    "sat_data = SAT_ACT['Participation_SAT'][0:50]\n",
    "act_data = SAT_ACT['Participation_ACT'][0:50] ##in order to pull the data excluding the standard deviation row"
   ]
  },
  {
   "cell_type": "markdown",
   "metadata": {},
   "source": [
    "Null hypothesis: The two population means are equal.\n",
    "Alternative hypothesis: The two population means are not equal. \n",
    "\n",
    "We want to use a two-sample t-test in this situation. "
   ]
  },
  {
   "cell_type": "code",
   "execution_count": 57,
   "metadata": {},
   "outputs": [
    {
     "data": {
      "text/plain": [
       "Ttest_indResult(statistic=-3.564388823190614, pvalue=0.00056555701630353074)"
      ]
     },
     "execution_count": 57,
     "metadata": {},
     "output_type": "execute_result"
    }
   ],
   "source": [
    "stats.ttest_ind(sat_data, act_data)"
   ]
  },
  {
   "cell_type": "markdown",
   "metadata": {},
   "source": [
    "Conclusion: Because p is less than alpha, we fail to reject the null hypothesis and can conclude that the alternative hypothesis that the two population means are not equal is true. "
   ]
  },
  {
   "cell_type": "markdown",
   "metadata": {},
   "source": [
    "##### 27. Generate and interpret 95% confidence intervals for SAT and ACT participation rates."
   ]
  },
  {
   "cell_type": "code",
   "execution_count": 58,
   "metadata": {},
   "outputs": [
    {
     "data": {
      "text/plain": [
       "0.5644039166922528"
      ]
     },
     "execution_count": 58,
     "metadata": {},
     "output_type": "execute_result"
    }
   ],
   "source": [
    "#ACT\n",
    "\n",
    "sample_mean = ACT_pat_mean\n",
    "z_star = 1.96\n",
    "sigma = 0.318\n",
    "n = len(SAT_ACT['Participation_ACT'][0:50])\n",
    "\n",
    "low_end_act = sample_mean - z_star * sigma / n ** 0.5\n",
    "\n",
    "high_end_act = sample_mean + z_star * sigma / n ** 0.5\n",
    "low_end_act"
   ]
  },
  {
   "cell_type": "code",
   "execution_count": 59,
   "metadata": {},
   "outputs": [
    {
     "data": {
      "text/plain": [
       "0.7406941225234334"
      ]
     },
     "execution_count": 59,
     "metadata": {},
     "output_type": "execute_result"
    }
   ],
   "source": [
    "high_end_act"
   ]
  },
  {
   "cell_type": "markdown",
   "metadata": {},
   "source": [
    "Conclusion: We are 95% confident that the true mean of ACT test participation falls is between 0.56 and 0.74."
   ]
  },
  {
   "cell_type": "code",
   "execution_count": 60,
   "metadata": {},
   "outputs": [
    {
     "data": {
      "text/plain": [
       "0.30130135116570533"
      ]
     },
     "execution_count": 60,
     "metadata": {},
     "output_type": "execute_result"
    }
   ],
   "source": [
    "#SAT\n",
    "\n",
    "sample_mean = SAT_pat_mean\n",
    "z_star = 1.96\n",
    "sigma = 0.349\n",
    "n = len(SAT_ACT['Participation_SAT'][0:50])\n",
    "\n",
    "low_end_sat = sample_mean - z_star * sigma / n ** 0.5\n",
    "\n",
    "high_end_sat = sample_mean + z_star * sigma / n ** 0.5\n",
    "low_end_sat"
   ]
  },
  {
   "cell_type": "code",
   "execution_count": 61,
   "metadata": {},
   "outputs": [
    {
     "data": {
      "text/plain": [
       "0.49477708020684374"
      ]
     },
     "execution_count": 61,
     "metadata": {},
     "output_type": "execute_result"
    }
   ],
   "source": [
    "high_end_sat"
   ]
  },
  {
   "cell_type": "markdown",
   "metadata": {},
   "source": [
    "Conclusion: We are 95% confident that the true mean of SAT test participation falls is between 0.30 and 0.49."
   ]
  },
  {
   "cell_type": "markdown",
   "metadata": {},
   "source": [
    "##### 28. Given your answer to 26, was your answer to 27 surprising? Why?"
   ]
  },
  {
   "cell_type": "markdown",
   "metadata": {},
   "source": [
    "No, because the hypothesis test shows that the difference between population means of both participation rates is statistically significant. The 95% confidence intervals for the means don’t overlap, which shows a significant difference between the means of the participation rates. "
   ]
  },
  {
   "cell_type": "markdown",
   "metadata": {},
   "source": [
    "##### 29. Is it appropriate to generate correlation between SAT and ACT math scores? Why?"
   ]
  },
  {
   "cell_type": "code",
   "execution_count": 62,
   "metadata": {},
   "outputs": [
    {
     "data": {
      "text/plain": [
       "array([[ 1.       , -0.3409059],\n",
       "       [-0.3409059,  1.       ]])"
      ]
     },
     "execution_count": 62,
     "metadata": {},
     "output_type": "execute_result"
    }
   ],
   "source": [
    "np.corrcoef(SAT_ACT['Math_SAT'],SAT_ACT['Math_ACT']) ##just to see the correlation of this relationship"
   ]
  },
  {
   "cell_type": "markdown",
   "metadata": {},
   "source": [
    "Yes, since correlation is a unitless number, variables of differing units can be compared based on correlation."
   ]
  },
  {
   "cell_type": "markdown",
   "metadata": {},
   "source": [
    "##### 30. Suppose we only seek to understand the relationship between SAT and ACT data in 2017. Does it make sense to conduct statistical inference given the data we have? Why?"
   ]
  },
  {
   "cell_type": "markdown",
   "metadata": {},
   "source": [
    "It depends. If you are calculating how strong the relationship between the two data sets, you are certainly able to describe the relationship. But you can't really make a statistical inference from that data. If you are comparing the average scores of both tests and to check and see if they are statistically different, you certainly can. Conducting a statistical inference based on purely face value, it wouldn't make much sense. They are scored differently, they have different sections, and high school students have a choice of taking either test to be granted admission to college. "
   ]
  }
 ],
 "metadata": {
  "anaconda-cloud": {},
  "kernelspec": {
   "display_name": "Python [default]",
   "language": "python",
   "name": "python3"
  },
  "language_info": {
   "codemirror_mode": {
    "name": "ipython",
    "version": 3
   },
   "file_extension": ".py",
   "mimetype": "text/x-python",
   "name": "python",
   "nbconvert_exporter": "python",
   "pygments_lexer": "ipython3",
   "version": "3.6.4"
  }
 },
 "nbformat": 4,
 "nbformat_minor": 2
}
